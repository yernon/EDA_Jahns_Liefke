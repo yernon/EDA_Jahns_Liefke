{
 "cells": [
  {
   "cell_type": "code",
   "execution_count": 4,
   "id": "initial_id",
   "metadata": {
    "collapsed": true,
    "ExecuteTime": {
     "end_time": "2025-06-24T20:25:45.685099500Z",
     "start_time": "2025-06-24T20:25:45.680153500Z"
    }
   },
   "outputs": [],
   "source": [
    "import numpy as np\n",
    "import pandas as pd\n",
    "from sklearn.preprocessing import LabelEncoder, MinMaxScaler, StandardScaler\n",
    "from sklearn.model_selection import KFold, StratifiedKFold, train_test_split\n",
    "from sklearn.metrics import accuracy_score, precision_score, recall_score, f1_score\n",
    "from sklearn.metrics import classification_report, confusion_matrix, ConfusionMatrixDisplay\n",
    "from xgboost import XGBClassifier\n",
    "from sklearn.model_selection import StratifiedKFold\n",
    "\n",
    "\n",
    "import matplotlib.pyplot as plt\n",
    "\n",
    "\n",
    "import warnings\n",
    "warnings.filterwarnings(\"ignore\", category=FutureWarning)\n",
    "warnings.filterwarnings(\"ignore\", category=UserWarning)\n"
   ]
  },
  {
   "cell_type": "code",
   "outputs": [
    {
     "name": "stdout",
     "output_type": "stream",
     "text": [
      "3.0.2\n"
     ]
    }
   ],
   "source": [
    "import xgboost\n",
    "print(xgboost.__version__)\n"
   ],
   "metadata": {
    "collapsed": false,
    "ExecuteTime": {
     "end_time": "2025-06-24T20:25:45.686104100Z",
     "start_time": "2025-06-24T20:25:45.682767900Z"
    }
   },
   "id": "81c680fe7df81f79",
   "execution_count": 5
  },
  {
   "cell_type": "code",
   "outputs": [],
   "source": [
    "train = pd.read_csv(\"data/train.csv\")\n",
    "test = pd.read_csv(\"data/test.csv\")\n",
    "original = pd.read_csv(\"data/Fertilizer Prediction.csv\")"
   ],
   "metadata": {
    "collapsed": false,
    "ExecuteTime": {
     "end_time": "2025-06-24T20:25:46.130731300Z",
     "start_time": "2025-06-24T20:25:45.685099500Z"
    }
   },
   "id": "3be320fe690eff76",
   "execution_count": 6
  },
  {
   "cell_type": "code",
   "outputs": [
    {
     "data": {
      "text/plain": "   Temparature  Humidity  Moisture Soil Type  Crop Type  Nitrogen  Potassium  \\\n0           37        70        36    Clayey  Sugarcane        36          4   \n1           27        69        65     Sandy    Millets        30          6   \n2           29        63        32     Sandy    Millets        24         12   \n3           35        62        54     Sandy     Barley        39         12   \n4           35        58        43       Red      Paddy        37          2   \n\n   Phosphorous  \n0            5  \n1           18  \n2           16  \n3            4  \n4           16  ",
      "text/html": "<div>\n<style scoped>\n    .dataframe tbody tr th:only-of-type {\n        vertical-align: middle;\n    }\n\n    .dataframe tbody tr th {\n        vertical-align: top;\n    }\n\n    .dataframe thead th {\n        text-align: right;\n    }\n</style>\n<table border=\"1\" class=\"dataframe\">\n  <thead>\n    <tr style=\"text-align: right;\">\n      <th></th>\n      <th>Temparature</th>\n      <th>Humidity</th>\n      <th>Moisture</th>\n      <th>Soil Type</th>\n      <th>Crop Type</th>\n      <th>Nitrogen</th>\n      <th>Potassium</th>\n      <th>Phosphorous</th>\n    </tr>\n  </thead>\n  <tbody>\n    <tr>\n      <th>0</th>\n      <td>37</td>\n      <td>70</td>\n      <td>36</td>\n      <td>Clayey</td>\n      <td>Sugarcane</td>\n      <td>36</td>\n      <td>4</td>\n      <td>5</td>\n    </tr>\n    <tr>\n      <th>1</th>\n      <td>27</td>\n      <td>69</td>\n      <td>65</td>\n      <td>Sandy</td>\n      <td>Millets</td>\n      <td>30</td>\n      <td>6</td>\n      <td>18</td>\n    </tr>\n    <tr>\n      <th>2</th>\n      <td>29</td>\n      <td>63</td>\n      <td>32</td>\n      <td>Sandy</td>\n      <td>Millets</td>\n      <td>24</td>\n      <td>12</td>\n      <td>16</td>\n    </tr>\n    <tr>\n      <th>3</th>\n      <td>35</td>\n      <td>62</td>\n      <td>54</td>\n      <td>Sandy</td>\n      <td>Barley</td>\n      <td>39</td>\n      <td>12</td>\n      <td>4</td>\n    </tr>\n    <tr>\n      <th>4</th>\n      <td>35</td>\n      <td>58</td>\n      <td>43</td>\n      <td>Red</td>\n      <td>Paddy</td>\n      <td>37</td>\n      <td>2</td>\n      <td>16</td>\n    </tr>\n  </tbody>\n</table>\n</div>"
     },
     "execution_count": 7,
     "metadata": {},
     "output_type": "execute_result"
    }
   ],
   "source": [
    "# Drop the 'id' column\n",
    "X = train.drop(columns=['id', 'Fertilizer Name'])\n",
    "\n",
    "# Extract the target column\n",
    "y = train['Fertilizer Name']\n",
    "\n",
    "X.head()"
   ],
   "metadata": {
    "collapsed": false,
    "ExecuteTime": {
     "end_time": "2025-06-24T20:25:46.163163100Z",
     "start_time": "2025-06-24T20:25:46.116816500Z"
    }
   },
   "id": "5c7565582fae66d1",
   "execution_count": 7
  },
  {
   "cell_type": "code",
   "outputs": [
    {
     "data": {
      "text/plain": "array([4, 4, 2, 0, 5, 3, 4, 1, 2, 3])"
     },
     "execution_count": 8,
     "metadata": {},
     "output_type": "execute_result"
    }
   ],
   "source": [
    "# Encode labels\n",
    "le = LabelEncoder()\n",
    "y_encoded = le.fit_transform(y)\n",
    "\n",
    "# Output labels are now numbers\n",
    "y_encoded[:10]"
   ],
   "metadata": {
    "collapsed": false,
    "ExecuteTime": {
     "end_time": "2025-06-24T20:25:46.253144100Z",
     "start_time": "2025-06-24T20:25:46.139350500Z"
    }
   },
   "id": "569c35cde5e3cc54",
   "execution_count": 8
  },
  {
   "cell_type": "code",
   "outputs": [
    {
     "name": "stdout",
     "output_type": "stream",
     "text": [
      "<class 'pandas.core.frame.DataFrame'>\n",
      "RangeIndex: 700000 entries, 0 to 699999\n",
      "Data columns (total 9 columns):\n",
      " #   Column           Non-Null Count   Dtype \n",
      "---  ------           --------------   ----- \n",
      " 0   Temparature      700000 non-null  int64 \n",
      " 1   Humidity         700000 non-null  int64 \n",
      " 2   Moisture         700000 non-null  int64 \n",
      " 3   Soil Type        700000 non-null  object\n",
      " 4   Crop Type        700000 non-null  object\n",
      " 5   Nitrogen         700000 non-null  int64 \n",
      " 6   Potassium        700000 non-null  int64 \n",
      " 7   Phosphorous      700000 non-null  int64 \n",
      " 8   Fertilizer Name  700000 non-null  object\n",
      "dtypes: int64(6), object(3)\n",
      "memory usage: 48.1+ MB\n"
     ]
    }
   ],
   "source": [
    "# multiple copies of original dataset\n",
    "orig_copy = original.copy()\n",
    "\n",
    "n = 6\n",
    "for i in range(n):\n",
    "    original = pd.concat([original, orig_copy], axis=0, ignore_index=True)\n",
    "    \n",
    "original.info()"
   ],
   "metadata": {
    "collapsed": false,
    "ExecuteTime": {
     "end_time": "2025-06-24T20:25:46.321902600Z",
     "start_time": "2025-06-24T20:25:46.216238300Z"
    }
   },
   "id": "519fd500a1f1c975",
   "execution_count": 9
  },
  {
   "cell_type": "code",
   "outputs": [
    {
     "data": {
      "text/plain": "Fertilizer Name\n14-35-14    114436\n10-26-26    113887\n17-17-17    112453\n28-28       111158\n20-20       110889\nDAP          94860\nUrea         92317\nName: count, dtype: int64"
     },
     "execution_count": 10,
     "metadata": {},
     "output_type": "execute_result"
    }
   ],
   "source": [
    "train['Fertilizer Name'].value_counts()"
   ],
   "metadata": {
    "collapsed": false,
    "ExecuteTime": {
     "end_time": "2025-06-24T20:25:46.357634100Z",
     "start_time": "2025-06-24T20:25:46.321902600Z"
    }
   },
   "id": "606abfaf8e30c819",
   "execution_count": 10
  },
  {
   "cell_type": "code",
   "outputs": [
    {
     "data": {
      "text/plain": "Fertilizer Name\n14-35-14    14492\n10-26-26    14378\nUrea        14325\n28-28       14232\nDAP         14220\n20-20       14181\n17-17-17    14172\nName: count, dtype: int64"
     },
     "execution_count": 11,
     "metadata": {},
     "output_type": "execute_result"
    }
   ],
   "source": [
    "orig_copy['Fertilizer Name'].value_counts()"
   ],
   "metadata": {
    "collapsed": false,
    "ExecuteTime": {
     "end_time": "2025-06-24T20:25:46.358979700Z",
     "start_time": "2025-06-24T20:25:46.350564500Z"
    }
   },
   "id": "217196d91ed4576",
   "execution_count": 11
  },
  {
   "cell_type": "code",
   "outputs": [
    {
     "name": "stdout",
     "output_type": "stream",
     "text": [
      "\n",
      "***** Fold 1 *****\n",
      "[0]\tvalidation_0-mlogloss:1.94578\tvalidation_1-mlogloss:1.94582\n",
      "[500]\tvalidation_0-mlogloss:1.89525\tvalidation_1-mlogloss:1.92138\n",
      "[1000]\tvalidation_0-mlogloss:1.85663\tvalidation_1-mlogloss:1.90996\n",
      "[1500]\tvalidation_0-mlogloss:1.82137\tvalidation_1-mlogloss:1.90178\n",
      "[2000]\tvalidation_0-mlogloss:1.78904\tvalidation_1-mlogloss:1.89543\n",
      "[2500]\tvalidation_0-mlogloss:1.75910\tvalidation_1-mlogloss:1.89046\n",
      "[3000]\tvalidation_0-mlogloss:1.73145\tvalidation_1-mlogloss:1.88673\n",
      "[3500]\tvalidation_0-mlogloss:1.70574\tvalidation_1-mlogloss:1.88399\n",
      "[4000]\tvalidation_0-mlogloss:1.68154\tvalidation_1-mlogloss:1.88199\n",
      "[4500]\tvalidation_0-mlogloss:1.65873\tvalidation_1-mlogloss:1.88068\n",
      "[5000]\tvalidation_0-mlogloss:1.63685\tvalidation_1-mlogloss:1.87985\n",
      "[5500]\tvalidation_0-mlogloss:1.61605\tvalidation_1-mlogloss:1.87941\n",
      "[6000]\tvalidation_0-mlogloss:1.59648\tvalidation_1-mlogloss:1.87935\n",
      "[6500]\tvalidation_0-mlogloss:1.57783\tvalidation_1-mlogloss:1.87968\n",
      "[7000]\tvalidation_0-mlogloss:1.55992\tvalidation_1-mlogloss:1.88023\n",
      "[7500]\tvalidation_0-mlogloss:1.54293\tvalidation_1-mlogloss:1.88094\n",
      "[8000]\tvalidation_0-mlogloss:1.52627\tvalidation_1-mlogloss:1.88185\n",
      "[8500]\tvalidation_0-mlogloss:1.51010\tvalidation_1-mlogloss:1.88289\n",
      "[9000]\tvalidation_0-mlogloss:1.49478\tvalidation_1-mlogloss:1.88406\n",
      "[9500]\tvalidation_0-mlogloss:1.47974\tvalidation_1-mlogloss:1.88534\n",
      "[9999]\tvalidation_0-mlogloss:1.46527\tvalidation_1-mlogloss:1.88670\n",
      "F1 (macro): 0.2375 | MAP@3: 0.3766\n",
      "\n",
      "***** Fold 2 *****\n",
      "[0]\tvalidation_0-mlogloss:1.94579\tvalidation_1-mlogloss:1.94582\n",
      "[500]\tvalidation_0-mlogloss:1.89516\tvalidation_1-mlogloss:1.92158\n",
      "[1000]\tvalidation_0-mlogloss:1.85654\tvalidation_1-mlogloss:1.91032\n",
      "[1500]\tvalidation_0-mlogloss:1.82130\tvalidation_1-mlogloss:1.90207\n",
      "[2000]\tvalidation_0-mlogloss:1.78893\tvalidation_1-mlogloss:1.89570\n",
      "[2500]\tvalidation_0-mlogloss:1.75898\tvalidation_1-mlogloss:1.89076\n",
      "[3000]\tvalidation_0-mlogloss:1.73137\tvalidation_1-mlogloss:1.88704\n",
      "[3500]\tvalidation_0-mlogloss:1.70562\tvalidation_1-mlogloss:1.88429\n",
      "[4000]\tvalidation_0-mlogloss:1.68145\tvalidation_1-mlogloss:1.88225\n",
      "[4500]\tvalidation_0-mlogloss:1.65859\tvalidation_1-mlogloss:1.88095\n",
      "[5000]\tvalidation_0-mlogloss:1.63674\tvalidation_1-mlogloss:1.88006\n",
      "[5500]\tvalidation_0-mlogloss:1.61599\tvalidation_1-mlogloss:1.87960\n",
      "[6000]\tvalidation_0-mlogloss:1.59645\tvalidation_1-mlogloss:1.87956\n",
      "[6500]\tvalidation_0-mlogloss:1.57782\tvalidation_1-mlogloss:1.87987\n",
      "[7000]\tvalidation_0-mlogloss:1.55990\tvalidation_1-mlogloss:1.88043\n",
      "[7500]\tvalidation_0-mlogloss:1.54291\tvalidation_1-mlogloss:1.88120\n",
      "[8000]\tvalidation_0-mlogloss:1.52629\tvalidation_1-mlogloss:1.88210\n",
      "[8500]\tvalidation_0-mlogloss:1.51011\tvalidation_1-mlogloss:1.88317\n",
      "[9000]\tvalidation_0-mlogloss:1.49480\tvalidation_1-mlogloss:1.88437\n",
      "[9500]\tvalidation_0-mlogloss:1.47975\tvalidation_1-mlogloss:1.88562\n",
      "[9999]\tvalidation_0-mlogloss:1.46530\tvalidation_1-mlogloss:1.88695\n",
      "F1 (macro): 0.2380 | MAP@3: 0.3763\n",
      "\n",
      "***** Fold 3 *****\n",
      "[0]\tvalidation_0-mlogloss:1.94579\tvalidation_1-mlogloss:1.94582\n",
      "[500]\tvalidation_0-mlogloss:1.89532\tvalidation_1-mlogloss:1.92114\n",
      "[1000]\tvalidation_0-mlogloss:1.85678\tvalidation_1-mlogloss:1.90965\n",
      "[1500]\tvalidation_0-mlogloss:1.82149\tvalidation_1-mlogloss:1.90129\n",
      "[2000]\tvalidation_0-mlogloss:1.78913\tvalidation_1-mlogloss:1.89480\n",
      "[2500]\tvalidation_0-mlogloss:1.75923\tvalidation_1-mlogloss:1.88973\n",
      "[3000]\tvalidation_0-mlogloss:1.73159\tvalidation_1-mlogloss:1.88591\n",
      "[3500]\tvalidation_0-mlogloss:1.70584\tvalidation_1-mlogloss:1.88305\n",
      "[4000]\tvalidation_0-mlogloss:1.68165\tvalidation_1-mlogloss:1.88092\n",
      "[4500]\tvalidation_0-mlogloss:1.65884\tvalidation_1-mlogloss:1.87947\n",
      "[5000]\tvalidation_0-mlogloss:1.63698\tvalidation_1-mlogloss:1.87851\n",
      "[5500]\tvalidation_0-mlogloss:1.61624\tvalidation_1-mlogloss:1.87804\n",
      "[6000]\tvalidation_0-mlogloss:1.59671\tvalidation_1-mlogloss:1.87789\n",
      "[6500]\tvalidation_0-mlogloss:1.57810\tvalidation_1-mlogloss:1.87807\n",
      "[7000]\tvalidation_0-mlogloss:1.56023\tvalidation_1-mlogloss:1.87851\n",
      "[7500]\tvalidation_0-mlogloss:1.54324\tvalidation_1-mlogloss:1.87914\n",
      "[8000]\tvalidation_0-mlogloss:1.52662\tvalidation_1-mlogloss:1.87992\n",
      "[8500]\tvalidation_0-mlogloss:1.51042\tvalidation_1-mlogloss:1.88094\n",
      "[9000]\tvalidation_0-mlogloss:1.49508\tvalidation_1-mlogloss:1.88204\n",
      "[9500]\tvalidation_0-mlogloss:1.48004\tvalidation_1-mlogloss:1.88328\n",
      "[9999]\tvalidation_0-mlogloss:1.46562\tvalidation_1-mlogloss:1.88462\n",
      "F1 (macro): 0.2391 | MAP@3: 0.3778\n",
      "\n",
      "***** Fold 4 *****\n",
      "[0]\tvalidation_0-mlogloss:1.94579\tvalidation_1-mlogloss:1.94583\n",
      "[500]\tvalidation_0-mlogloss:1.89515\tvalidation_1-mlogloss:1.92173\n",
      "[1000]\tvalidation_0-mlogloss:1.85643\tvalidation_1-mlogloss:1.91062\n",
      "[1500]\tvalidation_0-mlogloss:1.82114\tvalidation_1-mlogloss:1.90253\n",
      "[2000]\tvalidation_0-mlogloss:1.78875\tvalidation_1-mlogloss:1.89627\n",
      "[2500]\tvalidation_0-mlogloss:1.75879\tvalidation_1-mlogloss:1.89139\n",
      "[3000]\tvalidation_0-mlogloss:1.73118\tvalidation_1-mlogloss:1.88773\n",
      "[3500]\tvalidation_0-mlogloss:1.70546\tvalidation_1-mlogloss:1.88511\n",
      "[4000]\tvalidation_0-mlogloss:1.68128\tvalidation_1-mlogloss:1.88311\n",
      "[4500]\tvalidation_0-mlogloss:1.65846\tvalidation_1-mlogloss:1.88178\n",
      "[5000]\tvalidation_0-mlogloss:1.63660\tvalidation_1-mlogloss:1.88096\n",
      "[5500]\tvalidation_0-mlogloss:1.61584\tvalidation_1-mlogloss:1.88059\n",
      "[6000]\tvalidation_0-mlogloss:1.59630\tvalidation_1-mlogloss:1.88063\n",
      "[6500]\tvalidation_0-mlogloss:1.57768\tvalidation_1-mlogloss:1.88099\n",
      "[7000]\tvalidation_0-mlogloss:1.55979\tvalidation_1-mlogloss:1.88157\n",
      "[7500]\tvalidation_0-mlogloss:1.54278\tvalidation_1-mlogloss:1.88232\n",
      "[8000]\tvalidation_0-mlogloss:1.52613\tvalidation_1-mlogloss:1.88331\n",
      "[8500]\tvalidation_0-mlogloss:1.50992\tvalidation_1-mlogloss:1.88445\n",
      "[9000]\tvalidation_0-mlogloss:1.49460\tvalidation_1-mlogloss:1.88564\n",
      "[9500]\tvalidation_0-mlogloss:1.47956\tvalidation_1-mlogloss:1.88693\n",
      "[9999]\tvalidation_0-mlogloss:1.46513\tvalidation_1-mlogloss:1.88833\n",
      "F1 (macro): 0.2376 | MAP@3: 0.3760\n",
      "\n",
      "***** Fold 5 *****\n",
      "[0]\tvalidation_0-mlogloss:1.94579\tvalidation_1-mlogloss:1.94582\n",
      "[500]\tvalidation_0-mlogloss:1.89536\tvalidation_1-mlogloss:1.92118\n",
      "[1000]\tvalidation_0-mlogloss:1.85672\tvalidation_1-mlogloss:1.90979\n",
      "[1500]\tvalidation_0-mlogloss:1.82147\tvalidation_1-mlogloss:1.90148\n",
      "[2000]\tvalidation_0-mlogloss:1.78910\tvalidation_1-mlogloss:1.89508\n",
      "[2500]\tvalidation_0-mlogloss:1.75918\tvalidation_1-mlogloss:1.89010\n",
      "[3000]\tvalidation_0-mlogloss:1.73153\tvalidation_1-mlogloss:1.88634\n",
      "[3500]\tvalidation_0-mlogloss:1.70579\tvalidation_1-mlogloss:1.88357\n",
      "[4000]\tvalidation_0-mlogloss:1.68162\tvalidation_1-mlogloss:1.88149\n",
      "[4500]\tvalidation_0-mlogloss:1.65877\tvalidation_1-mlogloss:1.88013\n",
      "[5000]\tvalidation_0-mlogloss:1.63689\tvalidation_1-mlogloss:1.87925\n",
      "[5500]\tvalidation_0-mlogloss:1.61616\tvalidation_1-mlogloss:1.87881\n",
      "[6000]\tvalidation_0-mlogloss:1.59662\tvalidation_1-mlogloss:1.87870\n",
      "[6500]\tvalidation_0-mlogloss:1.57798\tvalidation_1-mlogloss:1.87900\n",
      "[7000]\tvalidation_0-mlogloss:1.56009\tvalidation_1-mlogloss:1.87950\n",
      "[7500]\tvalidation_0-mlogloss:1.54307\tvalidation_1-mlogloss:1.88023\n",
      "[8000]\tvalidation_0-mlogloss:1.52639\tvalidation_1-mlogloss:1.88113\n",
      "[8500]\tvalidation_0-mlogloss:1.51020\tvalidation_1-mlogloss:1.88214\n",
      "[9000]\tvalidation_0-mlogloss:1.49484\tvalidation_1-mlogloss:1.88327\n",
      "[9500]\tvalidation_0-mlogloss:1.47979\tvalidation_1-mlogloss:1.88453\n",
      "[9999]\tvalidation_0-mlogloss:1.46531\tvalidation_1-mlogloss:1.88585\n",
      "F1 (macro): 0.2401 | MAP@3: 0.3779\n",
      "\n",
      "***** Final CV Results *****\n",
      "Avg F1: 0.2385\n",
      "Avg MAP@3: 0.3769\n"
     ]
    }
   ],
   "source": [
    "# Store scores\n",
    "f1_scores = []\n",
    "map3_scores = []\n",
    "models = []\n",
    "\n",
    "# Collect predictions and true labels across all folds\n",
    "all_y_true = []\n",
    "all_y_pred = []\n",
    "\n",
    "# Prepare K-Fold\n",
    "skf = StratifiedKFold(n_splits=5, shuffle=True, random_state=42)\n",
    "\n",
    "for fold, (train_idx, val_idx) in enumerate(skf.split(X, y_encoded)):\n",
    "    print(f\"\\n***** Fold {fold + 1} *****\")\n",
    "\n",
    "    # Make full copies to avoid warnings\n",
    "    X_train = X.iloc[train_idx].copy()\n",
    "    X_val = X.iloc[val_idx].copy()\n",
    "    y_train = y_encoded[train_idx]\n",
    "    y_val = y_encoded[val_idx]\n",
    "\n",
    "    # Combine original with train data \n",
    "    X_train = pd.concat([X_train, original], ignore_index=True)\n",
    "    y_train = np.concatenate([y_train, le.transform(original['Fertilizer Name'])])\n",
    "\n",
    "    # Drop target column from training data\n",
    "    X_train.drop(columns=['Fertilizer Name'], inplace=True)\n",
    "\n",
    "    # Convert all features to categorical (except target, which is already separated)\n",
    "    for col in X_train.columns:\n",
    "        X_train[col] = X_train[col].astype('category')\n",
    "        \n",
    "    for col in X_val.columns:\n",
    "        X_val[col] = X_val[col].astype('category')\n",
    "    \n",
    "    cat_features = X_train.columns.tolist()   # capture all input columns\n",
    "\n",
    "    model = XGBClassifier(\n",
    "                max_depth=7,\n",
    "                colsample_bytree=0.4,\n",
    "                subsample=0.8,\n",
    "                n_estimators=10000,\n",
    "                learning_rate=0.01,\n",
    "                gamma=0.26,\n",
    "                max_delta_step=4,\n",
    "                reg_alpha=2.7,\n",
    "                reg_lambda=1.4,\n",
    "                objective='multi:softprob',\n",
    "                random_state=13,\n",
    "                enable_categorical=True,\n",
    "                tree_method='hist',     \n",
    "                device='cuda'  \n",
    "            )\n",
    "\n",
    "    model.fit(\n",
    "        X_train,\n",
    "        y_train,\n",
    "        eval_set=[(X_train, y_train),(X_val, y_val)],\n",
    "        verbose=500,\n",
    "    )\n",
    "    \n",
    "    # Predict class labels and probabilities\n",
    "    y_pred = model.predict(X_val)\n",
    "    y_probs = model.predict_proba(X_val)\n",
    "\n",
    "    # Store predictions and true labels\n",
    "    all_y_true.extend(y_val)\n",
    "    all_y_pred.extend(y_pred)\n",
    "\n",
    "    # F1 Score\n",
    "    report = classification_report(y_val, y_pred, output_dict=True)\n",
    "    f1_macro = report[\"macro avg\"][\"f1-score\"]\n",
    "    f1_scores.append(f1_macro)\n",
    "    \n",
    "    # MAP@3\n",
    "    top3_preds = np.argsort(y_probs, axis=1)[:, -3:][:, ::-1]\n",
    "    \n",
    "    def mapk(actual, predicted, k=3):\n",
    "        def apk(a, p, k):\n",
    "            if a in p[:k]:\n",
    "                return 1.0 / (p[:k].index(a) + 1)\n",
    "            return 0.0\n",
    "        return np.mean([apk(a, p, k) for a, p in zip(actual, predicted)])\n",
    "\n",
    "    map3 = mapk(y_val.tolist(), top3_preds.tolist(), k=3)\n",
    "    map3_scores.append(map3)\n",
    "    models.append(model)\n",
    "\n",
    "    print(f\"F1 (macro): {f1_macro:.4f} | MAP@3: {map3:.4f}\")\n",
    "\n",
    "# Final Results\n",
    "print(\"\\n***** Final CV Results *****\")\n",
    "print(f\"Avg F1: {np.mean(f1_scores):.4f}\")\n",
    "print(f\"Avg MAP@3: {np.mean(map3_scores):.4f}\")"
   ],
   "metadata": {
    "collapsed": false,
    "ExecuteTime": {
     "end_time": "2025-06-24T21:07:04.368576400Z",
     "start_time": "2025-06-24T20:25:46.358979700Z"
    }
   },
   "id": "68706b94264eeb92",
   "execution_count": 12
  },
  {
   "cell_type": "code",
   "outputs": [
    {
     "data": {
      "text/plain": "<Figure size 640x480 with 1 Axes>",
      "image/png": "[encoded data removed]"
     },
     "metadata": {},
     "output_type": "display_data"
    }
   ],
   "source": [
    "# Loss curves for the last fold\n",
    "results = model.evals_result()\n",
    "plt.plot(results['validation_0']['mlogloss'], label='Train')\n",
    "plt.plot(results['validation_1']['mlogloss'], label='Val')\n",
    "plt.legend()\n",
    "plt.show()"
   ],
   "metadata": {
    "collapsed": false,
    "ExecuteTime": {
     "end_time": "2025-06-24T21:07:04.480379800Z",
     "start_time": "2025-06-24T21:07:04.374090300Z"
    }
   },
   "id": "9ac34a3628fdc328",
   "execution_count": 13
  },
  {
   "cell_type": "code",
   "outputs": [
    {
     "name": "stdout",
     "output_type": "stream",
     "text": [
      "Done!\n"
     ]
    },
    {
     "data": {
      "text/plain": "       id          Fertilizer Name\n0  750000  20-20 10-26-26 17-17-17\n1  750001   Urea 10-26-26 17-17-17\n2  750002           20-20 Urea DAP\n3  750003   Urea 14-35-14 17-17-17\n4  750004         Urea 20-20 28-28",
      "text/html": "<div>\n<style scoped>\n    .dataframe tbody tr th:only-of-type {\n        vertical-align: middle;\n    }\n\n    .dataframe tbody tr th {\n        vertical-align: top;\n    }\n\n    .dataframe thead th {\n        text-align: right;\n    }\n</style>\n<table border=\"1\" class=\"dataframe\">\n  <thead>\n    <tr style=\"text-align: right;\">\n      <th></th>\n      <th>id</th>\n      <th>Fertilizer Name</th>\n    </tr>\n  </thead>\n  <tbody>\n    <tr>\n      <th>0</th>\n      <td>750000</td>\n      <td>20-20 10-26-26 17-17-17</td>\n    </tr>\n    <tr>\n      <th>1</th>\n      <td>750001</td>\n      <td>Urea 10-26-26 17-17-17</td>\n    </tr>\n    <tr>\n      <th>2</th>\n      <td>750002</td>\n      <td>20-20 Urea DAP</td>\n    </tr>\n    <tr>\n      <th>3</th>\n      <td>750003</td>\n      <td>Urea 14-35-14 17-17-17</td>\n    </tr>\n    <tr>\n      <th>4</th>\n      <td>750004</td>\n      <td>Urea 20-20 28-28</td>\n    </tr>\n  </tbody>\n</table>\n</div>"
     },
     "execution_count": 14,
     "metadata": {},
     "output_type": "execute_result"
    }
   ],
   "source": [
    "# Convert test data\n",
    "for col in cat_features:\n",
    "    test[col] = test[col].astype('category')\n",
    "\n",
    "all_preds = np.zeros((test.shape[0], len(le.classes_)))\n",
    "\n",
    "X_test = test.drop(columns='id')\n",
    "cat_features = X_test.columns.tolist()   \n",
    "\n",
    "for model in models:\n",
    "    probs = model.predict_proba(X_test)\n",
    "    all_preds += probs\n",
    "\n",
    "avg_preds = all_preds / len(models)\n",
    "\n",
    "top3_preds = np.argsort(probs, axis=1)[:, -3:][:, ::-1] \n",
    "\n",
    "top3_labels = le.inverse_transform(top3_preds.ravel()).reshape(top3_preds.shape)\n",
    "\n",
    "submission = pd.DataFrame({\n",
    "    'id': test['id'], \n",
    "    'Fertilizer Name': [' '.join(row) for row in top3_labels]\n",
    "})\n",
    "\n",
    "submission.to_csv('submission.csv', index=False)\n",
    "print(\"Done!\")\n",
    "\n",
    "submission.head()"
   ],
   "metadata": {
    "collapsed": false,
    "ExecuteTime": {
     "end_time": "2025-06-24T21:07:21.853145600Z",
     "start_time": "2025-06-24T21:07:04.481380200Z"
    }
   },
   "id": "897ebc00b8b3c0e3",
   "execution_count": 14
  }
 ],
 "metadata": {
  "kernelspec": {
   "display_name": "Python 3",
   "language": "python",
   "name": "python3"
  },
  "language_info": {
   "codemirror_mode": {
    "name": "ipython",
    "version": 2
   },
   "file_extension": ".py",
   "mimetype": "text/x-python",
   "name": "python",
   "nbconvert_exporter": "python",
   "pygments_lexer": "ipython2",
   "version": "2.7.6"
  }
 },
 "nbformat": 4,
 "nbformat_minor": 5
}

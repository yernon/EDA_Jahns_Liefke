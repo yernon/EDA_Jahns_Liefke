{
 "cells": [
  {
   "cell_type": "markdown",
   "id": "de899b552b1062be",
   "metadata": {},
   "source": [
    "# Predicting Optimal Fertilizer - XGBoost Implementierung\n",
    "\n",
    "Nach der explorativen Datenanalyse mit Random Forest und Logistic Regression haben wir festgestellt, dass komplexere Modelle für bessere Ergebnisse notwendig sind. XGBoost (Extreme Gradient Boosting) ist bekannt für seine überlegene Performance bei strukturierten Daten und Kaggle-Competitions.\n",
    "\n",
    "## Warum XGBoost?\n",
    "- **Gradient Boosting**: Sequenzieller Aufbau schwacher Lerner (Decision Trees)\n",
    "- **Regularisierung**: Integrierte L1/L2-Regularisierung verhindert Overfitting\n",
    "- **Kategorische Features**: Native Unterstützung für kategorische Variablen\n",
    "- **Performance**: Optimiert für Geschwindigkeit und Genauigkeit\n",
    "\n",
    "## Imports und Konfiguration"
   ]
  },
  {
   "cell_type": "code",
   "execution_count": 1,
   "id": "initial_id",
   "metadata": {
    "ExecuteTime": {
     "end_time": "2025-07-01T01:56:59.921309Z",
     "start_time": "2025-07-01T01:56:59.814106Z"
    }
   },
   "outputs": [
    {
     "name": "stdout",
     "output_type": "stream",
     "text": [
      "Dataset URL: https://www.kaggle.com/datasets/irakozekelly/fertilizer-prediction\n",
      "License(s): CC0-1.0\n",
      "fertilizer-prediction.zip: Skipping, found more recently modified local copy (use --force to force download)\n"
     ]
    }
   ],
   "source": [
    "import numpy as np\n",
    "import pandas as pd\n",
    "from sklearn.preprocessing import LabelEncoder\n",
    "from xgboost import XGBClassifier\n",
    "from sklearn.model_selection import StratifiedKFold\n",
    "import matplotlib.pyplot as plt\n",
    "import os, json, zipfile\n",
    "\n",
    "import warnings\n",
    "warnings.filterwarnings(\"ignore\", category=FutureWarning)\n",
    "warnings.filterwarnings(\"ignore\", category=UserWarning)\n",
    "\n",
    "# Orginal Daten können hier öffentlich gefunden werden:\n",
    "# https://www.kaggle.com/datasets/irakozekelly/fertilizer-prediction\n",
    "# Als \"Fertilizer Predicition.csv\"\n",
    "\n",
    "auth_data = json.load(open('kaggle.json'))\n",
    "os.environ['KAGGLE_USERNAME'] = 'guppi360'\n",
    "os.environ['KAGGLE_KEY'] = '7d6dd61df722878af328a4ddb9fe2e90'\n",
    "os.makedirs('./data', exist_ok=True)\n",
    "\n",
    "!kaggle datasets download irakozekelly/fertilizer-prediction -p ./data\n",
    "\n",
    "zip_path = './data/fertilizer-prediction.zip'\n",
    "with zipfile.ZipFile(zip_path, 'r') as zip_ref:\n",
    "    zip_ref.extractall('./data')"
   ]
  },
  {
   "cell_type": "markdown",
   "id": "37db1fb4f2ad2630",
   "metadata": {},
   "source": [
    "Wir laden die benötigten Bibliotheken für XGBoost-Training, Evaluation und Visualisierung. Die Warnings werden unterdrückt, um eine saubere Ausgabe zu gewährleisten.\n",
    "\n",
    "**Wichtige Bibliotheken:**\n",
    "- `XGBClassifier`: Hauptmodell für Klassifizierung\n",
    "- `StratifiedKFold`: Für ausbalancierte Cross-Validation\n",
    "- `LabelEncoder`: Konvertierung der Zielvariable in numerische Form"
   ]
  },
  {
   "cell_type": "markdown",
   "id": "8a3d3506b170b020",
   "metadata": {},
   "source": [
    "## Datenvorbereitung\n",
    "\n",
    "### Laden der Dateien\n",
    "Wir laden drei Datensätze:\n",
    "- **train.csv**: Kaggle-Trainingsdaten (700k Samples)\n",
    "- **test.csv**: Kaggle-Testdaten für finale Vorhersagen\n",
    "- **original.csv**: Original-Datensatz aus der Quelle"
   ]
  },
  {
   "cell_type": "code",
   "execution_count": 2,
   "id": "3be320fe690eff76",
   "metadata": {
    "collapsed": false,
    "jupyter": {
     "outputs_hidden": false
    }
   },
   "outputs": [],
   "source": [
    "train = pd.read_csv(\"data/train.csv\")\n",
    "test = pd.read_csv(\"data/test.csv\")\n",
    "original = pd.read_csv(\"data/Fertilizer Prediction.csv\")"
   ]
  },
  {
   "cell_type": "markdown",
   "id": "ade6ea7354c7eba8",
   "metadata": {},
   "source": [
    "### Feature-Target Separation\n",
    "- **Features (X)**: Alle Spalten außer 'id' und 'Fertilizer Name'\n",
    "  - Temperatur, Humidity, Moisture (numerisch)\n",
    "  - Soil Type, Crop Type (kategorisch)\n",
    "  - Nitrogen, Potassium, Phosphorous (numerisch)\n",
    "- **Target (y)**: 'Fertilizer Name' - 7 verschiedene Düngertypen"
   ]
  },
  {
   "cell_type": "code",
   "execution_count": 3,
   "id": "5c7565582fae66d1",
   "metadata": {
    "collapsed": false,
    "jupyter": {
     "outputs_hidden": false
    }
   },
   "outputs": [
    {
     "data": {
      "text/html": [
       "<div>\n",
       "<style scoped>\n",
       "    .dataframe tbody tr th:only-of-type {\n",
       "        vertical-align: middle;\n",
       "    }\n",
       "\n",
       "    .dataframe tbody tr th {\n",
       "        vertical-align: top;\n",
       "    }\n",
       "\n",
       "    .dataframe thead th {\n",
       "        text-align: right;\n",
       "    }\n",
       "</style>\n",
       "<table border=\"1\" class=\"dataframe\">\n",
       "  <thead>\n",
       "    <tr style=\"text-align: right;\">\n",
       "      <th></th>\n",
       "      <th>Temparature</th>\n",
       "      <th>Humidity</th>\n",
       "      <th>Moisture</th>\n",
       "      <th>Soil Type</th>\n",
       "      <th>Crop Type</th>\n",
       "      <th>Nitrogen</th>\n",
       "      <th>Potassium</th>\n",
       "      <th>Phosphorous</th>\n",
       "    </tr>\n",
       "  </thead>\n",
       "  <tbody>\n",
       "    <tr>\n",
       "      <th>0</th>\n",
       "      <td>37</td>\n",
       "      <td>70</td>\n",
       "      <td>36</td>\n",
       "      <td>Clayey</td>\n",
       "      <td>Sugarcane</td>\n",
       "      <td>36</td>\n",
       "      <td>4</td>\n",
       "      <td>5</td>\n",
       "    </tr>\n",
       "    <tr>\n",
       "      <th>1</th>\n",
       "      <td>27</td>\n",
       "      <td>69</td>\n",
       "      <td>65</td>\n",
       "      <td>Sandy</td>\n",
       "      <td>Millets</td>\n",
       "      <td>30</td>\n",
       "      <td>6</td>\n",
       "      <td>18</td>\n",
       "    </tr>\n",
       "    <tr>\n",
       "      <th>2</th>\n",
       "      <td>29</td>\n",
       "      <td>63</td>\n",
       "      <td>32</td>\n",
       "      <td>Sandy</td>\n",
       "      <td>Millets</td>\n",
       "      <td>24</td>\n",
       "      <td>12</td>\n",
       "      <td>16</td>\n",
       "    </tr>\n",
       "    <tr>\n",
       "      <th>3</th>\n",
       "      <td>35</td>\n",
       "      <td>62</td>\n",
       "      <td>54</td>\n",
       "      <td>Sandy</td>\n",
       "      <td>Barley</td>\n",
       "      <td>39</td>\n",
       "      <td>12</td>\n",
       "      <td>4</td>\n",
       "    </tr>\n",
       "    <tr>\n",
       "      <th>4</th>\n",
       "      <td>35</td>\n",
       "      <td>58</td>\n",
       "      <td>43</td>\n",
       "      <td>Red</td>\n",
       "      <td>Paddy</td>\n",
       "      <td>37</td>\n",
       "      <td>2</td>\n",
       "      <td>16</td>\n",
       "    </tr>\n",
       "  </tbody>\n",
       "</table>\n",
       "</div>"
      ],
      "text/plain": [
       "   Temparature  Humidity  Moisture Soil Type  Crop Type  Nitrogen  Potassium  \\\n",
       "0           37        70        36    Clayey  Sugarcane        36          4   \n",
       "1           27        69        65     Sandy    Millets        30          6   \n",
       "2           29        63        32     Sandy    Millets        24         12   \n",
       "3           35        62        54     Sandy     Barley        39         12   \n",
       "4           35        58        43       Red      Paddy        37          2   \n",
       "\n",
       "   Phosphorous  \n",
       "0            5  \n",
       "1           18  \n",
       "2           16  \n",
       "3            4  \n",
       "4           16  "
      ]
     },
     "execution_count": 3,
     "metadata": {},
     "output_type": "execute_result"
    }
   ],
   "source": [
    "# Drop the 'id' column\n",
    "X = train.drop(columns=['id', 'Fertilizer Name'])\n",
    "\n",
    "# Extract the target column\n",
    "y = train['Fertilizer Name']\n",
    "\n",
    "X.head()"
   ]
  },
  {
   "cell_type": "markdown",
   "id": "7f7822e055f06b7f",
   "metadata": {},
   "source": [
    "### Label Encoding"
   ]
  },
  {
   "cell_type": "code",
   "execution_count": 4,
   "id": "569c35cde5e3cc54",
   "metadata": {
    "collapsed": false,
    "jupyter": {
     "outputs_hidden": false
    }
   },
   "outputs": [
    {
     "data": {
      "text/plain": [
       "array([4, 4, 2, 0, 5, 3, 4, 1, 2, 3])"
      ]
     },
     "execution_count": 4,
     "metadata": {},
     "output_type": "execute_result"
    }
   ],
   "source": [
    "# Encode labels\n",
    "le = LabelEncoder()\n",
    "y_encoded = le.fit_transform(y)\n",
    "\n",
    "# Output labels are now numbers\n",
    "y_encoded[:10]"
   ]
  },
  {
   "cell_type": "markdown",
   "id": "4e10e108a1bc8be5",
   "metadata": {},
   "source": [
    "Die Zielvariable wird von String-Labels in numerische Werte umgewandelt:\n",
    "- 14-35-14 → 0\n",
    "- 10-26-26 → 1\n",
    "- 17-17-17 → 2\n",
    "- etc."
   ]
  },
  {
   "cell_type": "markdown",
   "id": "1bad026fbbbd516a",
   "metadata": {},
   "source": [
    "## Datenaugmentation Strategy\n",
    "### Problem: Unbalancierte Klassen\n",
    "Die Kaggle-Daten zeigen leichte Unbalancierung zwischen den Düngerklassen.\n",
    "### Lösung: Original-Daten Integration\n",
    "Wir vervielfachen den Original-Datensatz (n=6) und erreichen 700k zusätzliche Samples:\n",
    "```python\n",
    "for i in range(n):\n",
    "    original = pd.concat([original, orig_copy], axis=0, ignore_index=True)"
   ]
  },
  {
   "cell_type": "code",
   "execution_count": 5,
   "id": "519fd500a1f1c975",
   "metadata": {
    "collapsed": false,
    "jupyter": {
     "outputs_hidden": false
    }
   },
   "outputs": [
    {
     "name": "stdout",
     "output_type": "stream",
     "text": [
      "<class 'pandas.core.frame.DataFrame'>\n",
      "RangeIndex: 700000 entries, 0 to 699999\n",
      "Data columns (total 9 columns):\n",
      " #   Column           Non-Null Count   Dtype \n",
      "---  ------           --------------   ----- \n",
      " 0   Temparature      700000 non-null  int64 \n",
      " 1   Humidity         700000 non-null  int64 \n",
      " 2   Moisture         700000 non-null  int64 \n",
      " 3   Soil Type        700000 non-null  object\n",
      " 4   Crop Type        700000 non-null  object\n",
      " 5   Nitrogen         700000 non-null  int64 \n",
      " 6   Potassium        700000 non-null  int64 \n",
      " 7   Phosphorous      700000 non-null  int64 \n",
      " 8   Fertilizer Name  700000 non-null  object\n",
      "dtypes: int64(6), object(3)\n",
      "memory usage: 48.1+ MB\n"
     ]
    }
   ],
   "source": [
    "orig_copy = original.copy()\n",
    "\n",
    "n = 6\n",
    "for i in range(n):\n",
    "    original = pd.concat([original, orig_copy], axis=0, ignore_index=True)\n",
    "    \n",
    "original.info()"
   ]
  },
  {
   "cell_type": "markdown",
   "id": "708c02e555734295",
   "metadata": {},
   "source": [
    "## Klassenverteilung Analyse\n",
    "\n",
    "### Kaggle Trainingsdaten (750k Samples)\n",
    "Analyse der Verteilung der 7 Düngerklassen im Kaggle-Datensatz:"
   ]
  },
  {
   "cell_type": "code",
   "execution_count": 6,
   "id": "606abfaf8e30c819",
   "metadata": {
    "collapsed": false,
    "jupyter": {
     "outputs_hidden": false
    }
   },
   "outputs": [
    {
     "data": {
      "text/plain": [
       "Fertilizer Name\n",
       "14-35-14    114436\n",
       "10-26-26    113887\n",
       "17-17-17    112453\n",
       "28-28       111158\n",
       "20-20       110889\n",
       "DAP          94860\n",
       "Urea         92317\n",
       "Name: count, dtype: int64"
      ]
     },
     "execution_count": 6,
     "metadata": {},
     "output_type": "execute_result"
    }
   ],
   "source": [
    "train['Fertilizer Name'].value_counts()"
   ]
  },
  {
   "cell_type": "markdown",
   "id": "e7badef18ac23877",
   "metadata": {},
   "source": [
    "**Beobachtungen:**\n",
    "- **Leichte Unbalancierung**: 14-35-14 (114k) vs Urea (92k) \n",
    "- **Verhältnis**: ~24% Unterschied zwischen häufigster und seltenster Klasse\n",
    "- **Problem**: Kann zu Bias zugunsten häufigerer Klassen führen\n",
    "- **Lösung**: Datenaugmentation mit Original-Daten notwendig\n",
    "\n",
    "### Original-Datensatz (100k Samples)\n",
    "Vergleich mit der Klassenverteilung im ursprünglichen Datensatz:"
   ]
  },
  {
   "cell_type": "code",
   "execution_count": 7,
   "id": "217196d91ed4576",
   "metadata": {
    "collapsed": false,
    "jupyter": {
     "outputs_hidden": false
    }
   },
   "outputs": [
    {
     "data": {
      "text/plain": [
       "Fertilizer Name\n",
       "14-35-14    14492\n",
       "10-26-26    14378\n",
       "Urea        14325\n",
       "28-28       14232\n",
       "DAP         14220\n",
       "20-20       14181\n",
       "17-17-17    14172\n",
       "Name: count, dtype: int64"
      ]
     },
     "execution_count": 7,
     "metadata": {},
     "output_type": "execute_result"
    }
   ],
   "source": [
    "orig_copy['Fertilizer Name'].value_counts()"
   ]
  },
  {
   "cell_type": "markdown",
   "id": "3b65965171ff29b9",
   "metadata": {},
   "source": [
    "**Vergleich Original vs Kaggle:**\n",
    "- **Ausbalancierter**: Original-Daten zeigen gleichmäßigere Verteilung\n",
    "- **Unterschiede**: 14-35-14 (14.5k) vs Urea (14.3k) - nur ~1% Differenz\n",
    "- **Vorteil für Augmentation**: Original-Daten können Klassenunbalance ausgleichen\n",
    "## Cross-Validation Setup und Initialisierung\n",
    "\n",
    "Wir verwenden **Stratified K-Fold Cross-Validation** um eine robuste Modell-Evaluation zu gewährleisten:\n",
    "- **5 Folds**: Standard für zuverlässige Performance-Schätzung\n",
    "- **Stratified**: Erhält Klassenverteilung in jedem Fold\n",
    "- **Shuffle=True**: Vermeidet systematische Bias durch Datenreihenfolge\n",
    "\n",
    "Die Listen speichern Ergebnisse für spätere Ensemble-Bildung und finale Evaluation."
   ]
  },
  {
   "cell_type": "code",
   "execution_count": 8,
   "id": "9f9f41346c4f55ce",
   "metadata": {},
   "outputs": [],
   "source": [
    "\n",
    "map3_scores = []\n",
    "models = []\n",
    "\n",
    "all_y_true = []\n",
    "all_y_pred = []\n",
    "\n",
    "skf = StratifiedKFold(n_splits=5, shuffle=True, random_state=42)"
   ]
  },
  {
   "cell_type": "markdown",
   "id": "98b1f3530590dd62",
   "metadata": {},
   "source": [
    "## MAP@3 Metrik Implementation\n",
    "\n",
    "**Mean Average Precision at 3** ist die Haupt-Evaluationsmetrik für diese Kaggle-Competition:\n",
    "\n",
    "### Funktionsweise:\n",
    "- Für jede Vorhersage werden die **Top-3 wahrscheinlichsten Klassen** betrachtet\n",
    "- **Positionsgewichtung**: Höhere Position = höhere Gewichtung\n",
    "- **Berechnung**: `1 / (Position der korrekten Klasse)` falls in Top-3, sonst 0\n"
   ]
  },
  {
   "cell_type": "code",
   "execution_count": 9,
   "id": "7ada6aed940db638",
   "metadata": {},
   "outputs": [],
   "source": [
    "def mapk(actual, predicted, k=3):\n",
    "        def apk(a, p, k):\n",
    "            if a in p[:k]:\n",
    "                return 1.0 / (p[:k].index(a) + 1)\n",
    "            return 0.0\n",
    "        return np.mean([apk(a, p, k) for a, p in zip(actual, predicted)])"
   ]
  },
  {
   "cell_type": "markdown",
   "id": "23639d67-f02b-4386-8d3d-53dee67bc0ed",
   "metadata": {},
   "source": []
  },
  {
   "cell_type": "markdown",
   "id": "5e9b4bc83743b88e",
   "metadata": {},
   "source": [
    "## Cross-Validation Training Loop\n",
    "\n",
    "Für jeden der 5 Folds führen wir folgende Schritte durch:\n",
    "1. **Train/Validation Split** der Kaggle-Daten\n",
    "2. **Datenaugmentation** durch Original-Daten\n",
    "3. **Feature-Preprocessing** für XGBoost\n",
    "4. **Model Training** mit Monitoring\n",
    "5. **Evaluation** mit MAP@3 Metrik"
   ]
  },
  {
   "cell_type": "code",
   "execution_count": 10,
   "id": "958b2ae1b939776a",
   "metadata": {},
   "outputs": [
    {
     "name": "stdout",
     "output_type": "stream",
     "text": [
      "\n",
      "Fold 1 \n",
      "\n",
      "Fold 2 \n",
      "\n",
      "Fold 3 \n",
      "\n",
      "Fold 4 \n",
      "\n",
      "Fold 5 \n"
     ]
    }
   ],
   "source": [
    "for fold, (train_idx, val_idx) in enumerate(skf.split(X, y_encoded)):\n",
    "    print(f\"\\nFold {fold + 1} \")"
   ]
  },
  {
   "cell_type": "markdown",
   "id": "5a79c0463eec73ed",
   "metadata": {},
   "source": [
    "## Daten-Splitting und Augmentation pro Fold\n",
    "\n",
    "### Train/Validation Split\n",
    "- **Training**: 80% der Kaggle-Daten + komplette Original-Daten\n",
    "- **Validation**: 20% der Kaggle-Daten (keine Augmentation!)\n",
    "\n",
    "### Warum diese Strategie?\n",
    "- **Mehr Trainingsdaten**: Original-Daten verbessern Modell-Robustheit\n",
    "- **Saubere Evaluation**: Validation nur auf Kaggle-Daten testet echte Performance\n",
    "- **Klassenbalance**: Original-Daten gleichen Unbalancierung aus"
   ]
  },
  {
   "cell_type": "code",
   "execution_count": 11,
   "id": "ee30cceb9229730f",
   "metadata": {},
   "outputs": [],
   "source": [
    "    X_train = X.iloc[train_idx].copy()\n",
    "    X_val = X.iloc[val_idx].copy()\n",
    "    y_train = y_encoded[train_idx]\n",
    "    y_val = y_encoded[val_idx]\n",
    "\n",
    "    X_train = pd.concat([X_train, original], ignore_index=True)\n",
    "    y_train = np.concatenate([y_train, le.transform(original['Fertilizer Name'])])\n",
    "\n",
    "    X_train.drop(columns=['Fertilizer Name'], inplace=True)"
   ]
  },
  {
   "cell_type": "markdown",
   "id": "f175b3b0f78f6e6e",
   "metadata": {},
   "source": [
    "## Feature Preprocessing für XGBoost\n",
    "\n",
    "### Kategorische Feature-Behandlung\n",
    "XGBoost kann **nativ mit kategorischen Features** umgehen, wenn sie korrekt als 'category' dtype markiert sind:\n",
    "\n",
    "### Vorteile:\n",
    "- **Keine One-Hot-Encoding** notwendig\n",
    "- **Effizientere Speichernutzung**\n",
    "- **Bessere Performance** bei hochkardinalischen Kategorien\n",
    "- **Automatische Behandlung** unbekannter Kategorien"
   ]
  },
  {
   "cell_type": "code",
   "execution_count": 12,
   "id": "c17752d69cb81936",
   "metadata": {},
   "outputs": [],
   "source": [
    "    for col in X_train.columns:\n",
    "        X_train[col] = X_train[col].astype('category')\n",
    "        \n",
    "    for col in X_val.columns:\n",
    "        X_val[col] = X_val[col].astype('category')\n",
    "    \n",
    "    cat_features = X_train.columns.tolist()  "
   ]
  },
  {
   "cell_type": "markdown",
   "id": "3d9417947a1c8d13",
   "metadata": {},
   "source": [
    "## XGBoost Model Definition und Training\n",
    "\n",
    "### Hyperparameter-Erklärung:\n",
    "- **max_depth=7**: Baumtiefe begrenzt Komplexität\n",
    "- **learning_rate=0.01**: Kleine Schrittweite für stabile Konvergenz\n",
    "- **n_estimators=10000**: Viele Bäume mit Early Stopping\n",
    "- **Regularisierung**: alpha=2.7, lambda=1.4 verhindern Overfitting\n",
    "- **Sampling**: subsample=0.8, colsample=0.4 für Robustheit\n",
    "\n",
    "### Training-Monitoring:\n",
    "- **eval_set**: Überwacht Training- und Validation-Loss\n",
    "- **verbose=500**: Ausgabe alle 500 Iterationen"
   ]
  },
  {
   "cell_type": "code",
   "execution_count": 13,
   "id": "344f88c2cc79e631",
   "metadata": {},
   "outputs": [
    {
     "name": "stdout",
     "output_type": "stream",
     "text": [
      "[0]\tvalidation_0-mlogloss:1.94579\tvalidation_1-mlogloss:1.94582\n",
      "[500]\tvalidation_0-mlogloss:1.89536\tvalidation_1-mlogloss:1.92118\n",
      "[1000]\tvalidation_0-mlogloss:1.85672\tvalidation_1-mlogloss:1.90979\n",
      "[1500]\tvalidation_0-mlogloss:1.82147\tvalidation_1-mlogloss:1.90148\n",
      "[2000]\tvalidation_0-mlogloss:1.78910\tvalidation_1-mlogloss:1.89508\n",
      "[2500]\tvalidation_0-mlogloss:1.75918\tvalidation_1-mlogloss:1.89010\n",
      "[3000]\tvalidation_0-mlogloss:1.73153\tvalidation_1-mlogloss:1.88634\n",
      "[3500]\tvalidation_0-mlogloss:1.70579\tvalidation_1-mlogloss:1.88357\n",
      "[4000]\tvalidation_0-mlogloss:1.68162\tvalidation_1-mlogloss:1.88149\n",
      "[4500]\tvalidation_0-mlogloss:1.65877\tvalidation_1-mlogloss:1.88013\n",
      "[5000]\tvalidation_0-mlogloss:1.63689\tvalidation_1-mlogloss:1.87925\n",
      "[5500]\tvalidation_0-mlogloss:1.61616\tvalidation_1-mlogloss:1.87881\n",
      "[6000]\tvalidation_0-mlogloss:1.59662\tvalidation_1-mlogloss:1.87870\n",
      "[6500]\tvalidation_0-mlogloss:1.57798\tvalidation_1-mlogloss:1.87900\n",
      "[7000]\tvalidation_0-mlogloss:1.56009\tvalidation_1-mlogloss:1.87950\n",
      "[7500]\tvalidation_0-mlogloss:1.54307\tvalidation_1-mlogloss:1.88023\n",
      "[8000]\tvalidation_0-mlogloss:1.52639\tvalidation_1-mlogloss:1.88113\n",
      "[8500]\tvalidation_0-mlogloss:1.51020\tvalidation_1-mlogloss:1.88214\n",
      "[9000]\tvalidation_0-mlogloss:1.49484\tvalidation_1-mlogloss:1.88327\n",
      "[9500]\tvalidation_0-mlogloss:1.47979\tvalidation_1-mlogloss:1.88453\n",
      "[9999]\tvalidation_0-mlogloss:1.46531\tvalidation_1-mlogloss:1.88585\n"
     ]
    },
    {
     "data": {
      "text/html": [
       "<style>#sk-container-id-1 {\n",
       "  /* Definition of color scheme common for light and dark mode */\n",
       "  --sklearn-color-text: black;\n",
       "  --sklearn-color-line: gray;\n",
       "  /* Definition of color scheme for unfitted estimators */\n",
       "  --sklearn-color-unfitted-level-0: #fff5e6;\n",
       "  --sklearn-color-unfitted-level-1: #f6e4d2;\n",
       "  --sklearn-color-unfitted-level-2: #ffe0b3;\n",
       "  --sklearn-color-unfitted-level-3: chocolate;\n",
       "  /* Definition of color scheme for fitted estimators */\n",
       "  --sklearn-color-fitted-level-0: #f0f8ff;\n",
       "  --sklearn-color-fitted-level-1: #d4ebff;\n",
       "  --sklearn-color-fitted-level-2: #b3dbfd;\n",
       "  --sklearn-color-fitted-level-3: cornflowerblue;\n",
       "\n",
       "  /* Specific color for light theme */\n",
       "  --sklearn-color-text-on-default-background: var(--sg-text-color, var(--theme-code-foreground, var(--jp-content-font-color1, black)));\n",
       "  --sklearn-color-background: var(--sg-background-color, var(--theme-background, var(--jp-layout-color0, white)));\n",
       "  --sklearn-color-border-box: var(--sg-text-color, var(--theme-code-foreground, var(--jp-content-font-color1, black)));\n",
       "  --sklearn-color-icon: #696969;\n",
       "\n",
       "  @media (prefers-color-scheme: dark) {\n",
       "    /* Redefinition of color scheme for dark theme */\n",
       "    --sklearn-color-text-on-default-background: var(--sg-text-color, var(--theme-code-foreground, var(--jp-content-font-color1, white)));\n",
       "    --sklearn-color-background: var(--sg-background-color, var(--theme-background, var(--jp-layout-color0, #111)));\n",
       "    --sklearn-color-border-box: var(--sg-text-color, var(--theme-code-foreground, var(--jp-content-font-color1, white)));\n",
       "    --sklearn-color-icon: #878787;\n",
       "  }\n",
       "}\n",
       "\n",
       "#sk-container-id-1 {\n",
       "  color: var(--sklearn-color-text);\n",
       "}\n",
       "\n",
       "#sk-container-id-1 pre {\n",
       "  padding: 0;\n",
       "}\n",
       "\n",
       "#sk-container-id-1 input.sk-hidden--visually {\n",
       "  border: 0;\n",
       "  clip: rect(1px 1px 1px 1px);\n",
       "  clip: rect(1px, 1px, 1px, 1px);\n",
       "  height: 1px;\n",
       "  margin: -1px;\n",
       "  overflow: hidden;\n",
       "  padding: 0;\n",
       "  position: absolute;\n",
       "  width: 1px;\n",
       "}\n",
       "\n",
       "#sk-container-id-1 div.sk-dashed-wrapped {\n",
       "  border: 1px dashed var(--sklearn-color-line);\n",
       "  margin: 0 0.4em 0.5em 0.4em;\n",
       "  box-sizing: border-box;\n",
       "  padding-bottom: 0.4em;\n",
       "  background-color: var(--sklearn-color-background);\n",
       "}\n",
       "\n",
       "#sk-container-id-1 div.sk-container {\n",
       "  /* jupyter's `normalize.less` sets `[hidden] { display: none; }`\n",
       "     but bootstrap.min.css set `[hidden] { display: none !important; }`\n",
       "     so we also need the `!important` here to be able to override the\n",
       "     default hidden behavior on the sphinx rendered scikit-learn.org.\n",
       "     See: https://github.com/scikit-learn/scikit-learn/issues/21755 */\n",
       "  display: inline-block !important;\n",
       "  position: relative;\n",
       "}\n",
       "\n",
       "#sk-container-id-1 div.sk-text-repr-fallback {\n",
       "  display: none;\n",
       "}\n",
       "\n",
       "div.sk-parallel-item,\n",
       "div.sk-serial,\n",
       "div.sk-item {\n",
       "  /* draw centered vertical line to link estimators */\n",
       "  background-image: linear-gradient(var(--sklearn-color-text-on-default-background), var(--sklearn-color-text-on-default-background));\n",
       "  background-size: 2px 100%;\n",
       "  background-repeat: no-repeat;\n",
       "  background-position: center center;\n",
       "}\n",
       "\n",
       "/* Parallel-specific style estimator block */\n",
       "\n",
       "#sk-container-id-1 div.sk-parallel-item::after {\n",
       "  content: \"\";\n",
       "  width: 100%;\n",
       "  border-bottom: 2px solid var(--sklearn-color-text-on-default-background);\n",
       "  flex-grow: 1;\n",
       "}\n",
       "\n",
       "#sk-container-id-1 div.sk-parallel {\n",
       "  display: flex;\n",
       "  align-items: stretch;\n",
       "  justify-content: center;\n",
       "  background-color: var(--sklearn-color-background);\n",
       "  position: relative;\n",
       "}\n",
       "\n",
       "#sk-container-id-1 div.sk-parallel-item {\n",
       "  display: flex;\n",
       "  flex-direction: column;\n",
       "}\n",
       "\n",
       "#sk-container-id-1 div.sk-parallel-item:first-child::after {\n",
       "  align-self: flex-end;\n",
       "  width: 50%;\n",
       "}\n",
       "\n",
       "#sk-container-id-1 div.sk-parallel-item:last-child::after {\n",
       "  align-self: flex-start;\n",
       "  width: 50%;\n",
       "}\n",
       "\n",
       "#sk-container-id-1 div.sk-parallel-item:only-child::after {\n",
       "  width: 0;\n",
       "}\n",
       "\n",
       "/* Serial-specific style estimator block */\n",
       "\n",
       "#sk-container-id-1 div.sk-serial {\n",
       "  display: flex;\n",
       "  flex-direction: column;\n",
       "  align-items: center;\n",
       "  background-color: var(--sklearn-color-background);\n",
       "  padding-right: 1em;\n",
       "  padding-left: 1em;\n",
       "}\n",
       "\n",
       "\n",
       "/* Toggleable style: style used for estimator/Pipeline/ColumnTransformer box that is\n",
       "clickable and can be expanded/collapsed.\n",
       "- Pipeline and ColumnTransformer use this feature and define the default style\n",
       "- Estimators will overwrite some part of the style using the `sk-estimator` class\n",
       "*/\n",
       "\n",
       "/* Pipeline and ColumnTransformer style (default) */\n",
       "\n",
       "#sk-container-id-1 div.sk-toggleable {\n",
       "  /* Default theme specific background. It is overwritten whether we have a\n",
       "  specific estimator or a Pipeline/ColumnTransformer */\n",
       "  background-color: var(--sklearn-color-background);\n",
       "}\n",
       "\n",
       "/* Toggleable label */\n",
       "#sk-container-id-1 label.sk-toggleable__label {\n",
       "  cursor: pointer;\n",
       "  display: block;\n",
       "  width: 100%;\n",
       "  margin-bottom: 0;\n",
       "  padding: 0.5em;\n",
       "  box-sizing: border-box;\n",
       "  text-align: center;\n",
       "}\n",
       "\n",
       "#sk-container-id-1 label.sk-toggleable__label-arrow:before {\n",
       "  /* Arrow on the left of the label */\n",
       "  content: \"▸\";\n",
       "  float: left;\n",
       "  margin-right: 0.25em;\n",
       "  color: var(--sklearn-color-icon);\n",
       "}\n",
       "\n",
       "#sk-container-id-1 label.sk-toggleable__label-arrow:hover:before {\n",
       "  color: var(--sklearn-color-text);\n",
       "}\n",
       "\n",
       "/* Toggleable content - dropdown */\n",
       "\n",
       "#sk-container-id-1 div.sk-toggleable__content {\n",
       "  max-height: 0;\n",
       "  max-width: 0;\n",
       "  overflow: hidden;\n",
       "  text-align: left;\n",
       "  /* unfitted */\n",
       "  background-color: var(--sklearn-color-unfitted-level-0);\n",
       "}\n",
       "\n",
       "#sk-container-id-1 div.sk-toggleable__content.fitted {\n",
       "  /* fitted */\n",
       "  background-color: var(--sklearn-color-fitted-level-0);\n",
       "}\n",
       "\n",
       "#sk-container-id-1 div.sk-toggleable__content pre {\n",
       "  margin: 0.2em;\n",
       "  border-radius: 0.25em;\n",
       "  color: var(--sklearn-color-text);\n",
       "  /* unfitted */\n",
       "  background-color: var(--sklearn-color-unfitted-level-0);\n",
       "}\n",
       "\n",
       "#sk-container-id-1 div.sk-toggleable__content.fitted pre {\n",
       "  /* unfitted */\n",
       "  background-color: var(--sklearn-color-fitted-level-0);\n",
       "}\n",
       "\n",
       "#sk-container-id-1 input.sk-toggleable__control:checked~div.sk-toggleable__content {\n",
       "  /* Expand drop-down */\n",
       "  max-height: 200px;\n",
       "  max-width: 100%;\n",
       "  overflow: auto;\n",
       "}\n",
       "\n",
       "#sk-container-id-1 input.sk-toggleable__control:checked~label.sk-toggleable__label-arrow:before {\n",
       "  content: \"▾\";\n",
       "}\n",
       "\n",
       "/* Pipeline/ColumnTransformer-specific style */\n",
       "\n",
       "#sk-container-id-1 div.sk-label input.sk-toggleable__control:checked~label.sk-toggleable__label {\n",
       "  color: var(--sklearn-color-text);\n",
       "  background-color: var(--sklearn-color-unfitted-level-2);\n",
       "}\n",
       "\n",
       "#sk-container-id-1 div.sk-label.fitted input.sk-toggleable__control:checked~label.sk-toggleable__label {\n",
       "  background-color: var(--sklearn-color-fitted-level-2);\n",
       "}\n",
       "\n",
       "/* Estimator-specific style */\n",
       "\n",
       "/* Colorize estimator box */\n",
       "#sk-container-id-1 div.sk-estimator input.sk-toggleable__control:checked~label.sk-toggleable__label {\n",
       "  /* unfitted */\n",
       "  background-color: var(--sklearn-color-unfitted-level-2);\n",
       "}\n",
       "\n",
       "#sk-container-id-1 div.sk-estimator.fitted input.sk-toggleable__control:checked~label.sk-toggleable__label {\n",
       "  /* fitted */\n",
       "  background-color: var(--sklearn-color-fitted-level-2);\n",
       "}\n",
       "\n",
       "#sk-container-id-1 div.sk-label label.sk-toggleable__label,\n",
       "#sk-container-id-1 div.sk-label label {\n",
       "  /* The background is the default theme color */\n",
       "  color: var(--sklearn-color-text-on-default-background);\n",
       "}\n",
       "\n",
       "/* On hover, darken the color of the background */\n",
       "#sk-container-id-1 div.sk-label:hover label.sk-toggleable__label {\n",
       "  color: var(--sklearn-color-text);\n",
       "  background-color: var(--sklearn-color-unfitted-level-2);\n",
       "}\n",
       "\n",
       "/* Label box, darken color on hover, fitted */\n",
       "#sk-container-id-1 div.sk-label.fitted:hover label.sk-toggleable__label.fitted {\n",
       "  color: var(--sklearn-color-text);\n",
       "  background-color: var(--sklearn-color-fitted-level-2);\n",
       "}\n",
       "\n",
       "/* Estimator label */\n",
       "\n",
       "#sk-container-id-1 div.sk-label label {\n",
       "  font-family: monospace;\n",
       "  font-weight: bold;\n",
       "  display: inline-block;\n",
       "  line-height: 1.2em;\n",
       "}\n",
       "\n",
       "#sk-container-id-1 div.sk-label-container {\n",
       "  text-align: center;\n",
       "}\n",
       "\n",
       "/* Estimator-specific */\n",
       "#sk-container-id-1 div.sk-estimator {\n",
       "  font-family: monospace;\n",
       "  border: 1px dotted var(--sklearn-color-border-box);\n",
       "  border-radius: 0.25em;\n",
       "  box-sizing: border-box;\n",
       "  margin-bottom: 0.5em;\n",
       "  /* unfitted */\n",
       "  background-color: var(--sklearn-color-unfitted-level-0);\n",
       "}\n",
       "\n",
       "#sk-container-id-1 div.sk-estimator.fitted {\n",
       "  /* fitted */\n",
       "  background-color: var(--sklearn-color-fitted-level-0);\n",
       "}\n",
       "\n",
       "/* on hover */\n",
       "#sk-container-id-1 div.sk-estimator:hover {\n",
       "  /* unfitted */\n",
       "  background-color: var(--sklearn-color-unfitted-level-2);\n",
       "}\n",
       "\n",
       "#sk-container-id-1 div.sk-estimator.fitted:hover {\n",
       "  /* fitted */\n",
       "  background-color: var(--sklearn-color-fitted-level-2);\n",
       "}\n",
       "\n",
       "/* Specification for estimator info (e.g. \"i\" and \"?\") */\n",
       "\n",
       "/* Common style for \"i\" and \"?\" */\n",
       "\n",
       ".sk-estimator-doc-link,\n",
       "a:link.sk-estimator-doc-link,\n",
       "a:visited.sk-estimator-doc-link {\n",
       "  float: right;\n",
       "  font-size: smaller;\n",
       "  line-height: 1em;\n",
       "  font-family: monospace;\n",
       "  background-color: var(--sklearn-color-background);\n",
       "  border-radius: 1em;\n",
       "  height: 1em;\n",
       "  width: 1em;\n",
       "  text-decoration: none !important;\n",
       "  margin-left: 1ex;\n",
       "  /* unfitted */\n",
       "  border: var(--sklearn-color-unfitted-level-1) 1pt solid;\n",
       "  color: var(--sklearn-color-unfitted-level-1);\n",
       "}\n",
       "\n",
       ".sk-estimator-doc-link.fitted,\n",
       "a:link.sk-estimator-doc-link.fitted,\n",
       "a:visited.sk-estimator-doc-link.fitted {\n",
       "  /* fitted */\n",
       "  border: var(--sklearn-color-fitted-level-1) 1pt solid;\n",
       "  color: var(--sklearn-color-fitted-level-1);\n",
       "}\n",
       "\n",
       "/* On hover */\n",
       "div.sk-estimator:hover .sk-estimator-doc-link:hover,\n",
       ".sk-estimator-doc-link:hover,\n",
       "div.sk-label-container:hover .sk-estimator-doc-link:hover,\n",
       ".sk-estimator-doc-link:hover {\n",
       "  /* unfitted */\n",
       "  background-color: var(--sklearn-color-unfitted-level-3);\n",
       "  color: var(--sklearn-color-background);\n",
       "  text-decoration: none;\n",
       "}\n",
       "\n",
       "div.sk-estimator.fitted:hover .sk-estimator-doc-link.fitted:hover,\n",
       ".sk-estimator-doc-link.fitted:hover,\n",
       "div.sk-label-container:hover .sk-estimator-doc-link.fitted:hover,\n",
       ".sk-estimator-doc-link.fitted:hover {\n",
       "  /* fitted */\n",
       "  background-color: var(--sklearn-color-fitted-level-3);\n",
       "  color: var(--sklearn-color-background);\n",
       "  text-decoration: none;\n",
       "}\n",
       "\n",
       "/* Span, style for the box shown on hovering the info icon */\n",
       ".sk-estimator-doc-link span {\n",
       "  display: none;\n",
       "  z-index: 9999;\n",
       "  position: relative;\n",
       "  font-weight: normal;\n",
       "  right: .2ex;\n",
       "  padding: .5ex;\n",
       "  margin: .5ex;\n",
       "  width: min-content;\n",
       "  min-width: 20ex;\n",
       "  max-width: 50ex;\n",
       "  color: var(--sklearn-color-text);\n",
       "  box-shadow: 2pt 2pt 4pt #999;\n",
       "  /* unfitted */\n",
       "  background: var(--sklearn-color-unfitted-level-0);\n",
       "  border: .5pt solid var(--sklearn-color-unfitted-level-3);\n",
       "}\n",
       "\n",
       ".sk-estimator-doc-link.fitted span {\n",
       "  /* fitted */\n",
       "  background: var(--sklearn-color-fitted-level-0);\n",
       "  border: var(--sklearn-color-fitted-level-3);\n",
       "}\n",
       "\n",
       ".sk-estimator-doc-link:hover span {\n",
       "  display: block;\n",
       "}\n",
       "\n",
       "/* \"?\"-specific style due to the `<a>` HTML tag */\n",
       "\n",
       "#sk-container-id-1 a.estimator_doc_link {\n",
       "  float: right;\n",
       "  font-size: 1rem;\n",
       "  line-height: 1em;\n",
       "  font-family: monospace;\n",
       "  background-color: var(--sklearn-color-background);\n",
       "  border-radius: 1rem;\n",
       "  height: 1rem;\n",
       "  width: 1rem;\n",
       "  text-decoration: none;\n",
       "  /* unfitted */\n",
       "  color: var(--sklearn-color-unfitted-level-1);\n",
       "  border: var(--sklearn-color-unfitted-level-1) 1pt solid;\n",
       "}\n",
       "\n",
       "#sk-container-id-1 a.estimator_doc_link.fitted {\n",
       "  /* fitted */\n",
       "  border: var(--sklearn-color-fitted-level-1) 1pt solid;\n",
       "  color: var(--sklearn-color-fitted-level-1);\n",
       "}\n",
       "\n",
       "/* On hover */\n",
       "#sk-container-id-1 a.estimator_doc_link:hover {\n",
       "  /* unfitted */\n",
       "  background-color: var(--sklearn-color-unfitted-level-3);\n",
       "  color: var(--sklearn-color-background);\n",
       "  text-decoration: none;\n",
       "}\n",
       "\n",
       "#sk-container-id-1 a.estimator_doc_link.fitted:hover {\n",
       "  /* fitted */\n",
       "  background-color: var(--sklearn-color-fitted-level-3);\n",
       "}\n",
       "</style><div id=\"sk-container-id-1\" class=\"sk-top-container\"><div class=\"sk-text-repr-fallback\"><pre>XGBClassifier(base_score=None, booster=None, callbacks=None,\n",
       "              colsample_bylevel=None, colsample_bynode=None,\n",
       "              colsample_bytree=0.4, device=&#x27;cuda&#x27;, early_stopping_rounds=None,\n",
       "              enable_categorical=True, eval_metric=None, feature_types=None,\n",
       "              feature_weights=None, gamma=0.26, grow_policy=None,\n",
       "              importance_type=None, interaction_constraints=None,\n",
       "              learning_rate=0.01, max_bin=None, max_cat_threshold=None,\n",
       "              max_cat_to_onehot=None, max_delta_step=4, max_depth=7,\n",
       "              max_leaves=None, min_child_weight=None, missing=nan,\n",
       "              monotone_constraints=None, multi_strategy=None,\n",
       "              n_estimators=10000, n_jobs=None, num_parallel_tree=None, ...)</pre><b>In a Jupyter environment, please rerun this cell to show the HTML representation or trust the notebook. <br />On GitHub, the HTML representation is unable to render, please try loading this page with nbviewer.org.</b></div><div class=\"sk-container\" hidden><div class=\"sk-item\"><div class=\"sk-estimator fitted sk-toggleable\"><input class=\"sk-toggleable__control sk-hidden--visually\" id=\"sk-estimator-id-1\" type=\"checkbox\" checked><label for=\"sk-estimator-id-1\" class=\"sk-toggleable__label fitted sk-toggleable__label-arrow fitted\">&nbsp;&nbsp;XGBClassifier<a class=\"sk-estimator-doc-link fitted\" rel=\"noreferrer\" target=\"_blank\" href=\"https://xgboost.readthedocs.io/en/release_3.0.0/python/python_api.html#xgboost.XGBClassifier\">?<span>Documentation for XGBClassifier</span></a><span class=\"sk-estimator-doc-link fitted\">i<span>Fitted</span></span></label><div class=\"sk-toggleable__content fitted\"><pre>XGBClassifier(base_score=None, booster=None, callbacks=None,\n",
       "              colsample_bylevel=None, colsample_bynode=None,\n",
       "              colsample_bytree=0.4, device=&#x27;cuda&#x27;, early_stopping_rounds=None,\n",
       "              enable_categorical=True, eval_metric=None, feature_types=None,\n",
       "              feature_weights=None, gamma=0.26, grow_policy=None,\n",
       "              importance_type=None, interaction_constraints=None,\n",
       "              learning_rate=0.01, max_bin=None, max_cat_threshold=None,\n",
       "              max_cat_to_onehot=None, max_delta_step=4, max_depth=7,\n",
       "              max_leaves=None, min_child_weight=None, missing=nan,\n",
       "              monotone_constraints=None, multi_strategy=None,\n",
       "              n_estimators=10000, n_jobs=None, num_parallel_tree=None, ...)</pre></div> </div></div></div></div>"
      ],
      "text/plain": [
       "XGBClassifier(base_score=None, booster=None, callbacks=None,\n",
       "              colsample_bylevel=None, colsample_bynode=None,\n",
       "              colsample_bytree=0.4, device='cuda', early_stopping_rounds=None,\n",
       "              enable_categorical=True, eval_metric=None, feature_types=None,\n",
       "              feature_weights=None, gamma=0.26, grow_policy=None,\n",
       "              importance_type=None, interaction_constraints=None,\n",
       "              learning_rate=0.01, max_bin=None, max_cat_threshold=None,\n",
       "              max_cat_to_onehot=None, max_delta_step=4, max_depth=7,\n",
       "              max_leaves=None, min_child_weight=None, missing=nan,\n",
       "              monotone_constraints=None, multi_strategy=None,\n",
       "              n_estimators=10000, n_jobs=None, num_parallel_tree=None, ...)"
      ]
     },
     "execution_count": 13,
     "metadata": {},
     "output_type": "execute_result"
    }
   ],
   "source": [
    "    model = XGBClassifier(\n",
    "                max_depth=7,\n",
    "                colsample_bytree=0.4,\n",
    "                subsample=0.8,\n",
    "                n_estimators=10000,\n",
    "                learning_rate=0.01,\n",
    "                gamma=0.26,\n",
    "                max_delta_step=4,\n",
    "                reg_alpha=2.7,\n",
    "                reg_lambda=1.4,\n",
    "                objective='multi:softprob',\n",
    "                random_state=13,\n",
    "                enable_categorical=True,\n",
    "                tree_method='hist',     \n",
    "                device='cuda'  \n",
    "            )\n",
    "\n",
    "    model.fit(\n",
    "        X_train,\n",
    "        y_train,\n",
    "        eval_set=[(X_train, y_train),(X_val, y_val)],\n",
    "        verbose=500,\n",
    "    )"
   ]
  },
  {
   "cell_type": "markdown",
   "id": "720350e8999fc833",
   "metadata": {},
   "source": [
    "## Vorhersagen und Performance-Evaluation\n",
    "\n",
    "### Vorhersage-Typen:\n",
    "- **y_pred**: Beste Klassen-Vorhersage (für F1-Score)\n",
    "- **y_probs**: Wahrscheinlichkeiten für alle Klassen (für MAP@3)\n",
    "\n",
    "### Top-3 Ranking:\n",
    "- **np.argsort**: Sortiert Indizes nach Wahrscheinlichkeit\n",
    "- **[:, -3:]**: Nimmt die 3 höchsten Werte\n",
    "- **[:, ::-1]**: Kehrt Reihenfolge um (höchste zuerst)"
   ]
  },
  {
   "cell_type": "code",
   "execution_count": 18,
   "id": "a5ee71351daf7411",
   "metadata": {},
   "outputs": [
    {
     "name": "stdout",
     "output_type": "stream",
     "text": [
      "F1 (macro): | MAP@3: 0.3779\n"
     ]
    }
   ],
   "source": [
    "    y_pred = model.predict(X_val)\n",
    "    y_probs = model.predict_proba(X_val)\n",
    "\n",
    "    all_y_true.extend(y_val)\n",
    "    all_y_pred.extend(y_pred)\n",
    "\n",
    "\n",
    "    top3_preds = np.argsort(y_probs, axis=1)[:, -3:][:, ::-1]\n",
    "    \n",
    "    \n",
    "\n",
    "    map3 = mapk(y_val.tolist(), top3_preds.tolist(), k=3)\n",
    "    map3_scores.append(map3)\n",
    "    models.append(model)\n"
   ]
  },
  {
   "cell_type": "markdown",
   "id": "471e4ab29d294d73",
   "metadata": {},
   "source": [
    "## Cross-Validation Ergebnisse\n",
    "\n",
    "### Performance-Zusammenfassung:\n",
    "Die finale **durchschnittliche MAP@3** über alle 5 Folds gibt uns eine robuste Schätzung der Modell-Performance auf ungesehenen Daten.\n",
    "\n",
    "### Interpretation:\n",
    "- **MAP@3 ≈ 0.377**: Solide Performance für 7-Klassen-Problem\n",
    "- **Konsistenz**: Geringe Varianz zwischen Folds zeigt Stabilität\n",
    "- **Overfitting-Check**: Validation-Performance ist realistisch"
   ]
  },
  {
   "cell_type": "code",
   "execution_count": 15,
   "id": "68706b94264eeb92",
   "metadata": {
    "collapsed": false,
    "jupyter": {
     "outputs_hidden": false
    }
   },
   "outputs": [
    {
     "name": "stdout",
     "output_type": "stream",
     "text": [
      "\n",
      " Final CV Results \n",
      "Avg MAP@3: 0.3779\n"
     ]
    }
   ],
   "source": [
    "print(\"\\n Final CV Results \")\n",
    "print(f\"Avg MAP@3: {np.mean(map3_scores):.4f}\")"
   ]
  },
  {
   "cell_type": "code",
   "execution_count": 16,
   "id": "9ac34a3628fdc328",
   "metadata": {
    "collapsed": false,
    "jupyter": {
     "outputs_hidden": false
    }
   },
   "outputs": [
    {
     "data": {
      "image/png": "[encoded data removed]",
      "text/plain": [
       "<Figure size 640x480 with 1 Axes>"
      ]
     },
     "metadata": {},
     "output_type": "display_data"
    }
   ],
   "source": [
    "\n",
    "results = model.evals_result()\n",
    "plt.plot(results['validation_0']['mlogloss'], label='Train')\n",
    "plt.plot(results['validation_1']['mlogloss'], label='Val')\n",
    "plt.legend()\n",
    "plt.show()"
   ]
  },
  {
   "cell_type": "code",
   "execution_count": 19,
   "id": "897ebc00b8b3c0e3",
   "metadata": {
    "collapsed": false,
    "jupyter": {
     "outputs_hidden": false
    }
   },
   "outputs": [
    {
     "data": {
      "text/html": [
       "<div>\n",
       "<style scoped>\n",
       "    .dataframe tbody tr th:only-of-type {\n",
       "        vertical-align: middle;\n",
       "    }\n",
       "\n",
       "    .dataframe tbody tr th {\n",
       "        vertical-align: top;\n",
       "    }\n",
       "\n",
       "    .dataframe thead th {\n",
       "        text-align: right;\n",
       "    }\n",
       "</style>\n",
       "<table border=\"1\" class=\"dataframe\">\n",
       "  <thead>\n",
       "    <tr style=\"text-align: right;\">\n",
       "      <th></th>\n",
       "      <th>id</th>\n",
       "      <th>Fertilizer Name</th>\n",
       "    </tr>\n",
       "  </thead>\n",
       "  <tbody>\n",
       "    <tr>\n",
       "      <th>0</th>\n",
       "      <td>750000</td>\n",
       "      <td>20-20 10-26-26 17-17-17</td>\n",
       "    </tr>\n",
       "    <tr>\n",
       "      <th>1</th>\n",
       "      <td>750001</td>\n",
       "      <td>Urea 10-26-26 17-17-17</td>\n",
       "    </tr>\n",
       "    <tr>\n",
       "      <th>2</th>\n",
       "      <td>750002</td>\n",
       "      <td>20-20 Urea DAP</td>\n",
       "    </tr>\n",
       "    <tr>\n",
       "      <th>3</th>\n",
       "      <td>750003</td>\n",
       "      <td>Urea 14-35-14 17-17-17</td>\n",
       "    </tr>\n",
       "    <tr>\n",
       "      <th>4</th>\n",
       "      <td>750004</td>\n",
       "      <td>Urea 20-20 28-28</td>\n",
       "    </tr>\n",
       "  </tbody>\n",
       "</table>\n",
       "</div>"
      ],
      "text/plain": [
       "       id          Fertilizer Name\n",
       "0  750000  20-20 10-26-26 17-17-17\n",
       "1  750001   Urea 10-26-26 17-17-17\n",
       "2  750002           20-20 Urea DAP\n",
       "3  750003   Urea 14-35-14 17-17-17\n",
       "4  750004         Urea 20-20 28-28"
      ]
     },
     "execution_count": 19,
     "metadata": {},
     "output_type": "execute_result"
    }
   ],
   "source": [
    "for col in cat_features:\n",
    "    test[col] = test[col].astype('category')\n",
    "\n",
    "all_preds = np.zeros((test.shape[0], len(le.classes_)))\n",
    "\n",
    "X_test = test.drop(columns='id')\n",
    "cat_features = X_test.columns.tolist()   \n",
    "\n",
    "for model in models:\n",
    "    probs = model.predict_proba(X_test)\n",
    "    all_preds += probs\n",
    "\n",
    "avg_preds = all_preds / len(models)\n",
    "\n",
    "top3_preds = np.argsort(avg_preds, axis=1)[:, -3:][:, ::-1]\n",
    "\n",
    "top3_labels = le.inverse_transform(top3_preds.ravel()).reshape(top3_preds.shape)\n",
    "\n",
    "submission = pd.DataFrame({\n",
    "    'id': test['id'], \n",
    "    'Fertilizer Name': [' '.join(row) for row in top3_labels]\n",
    "})\n",
    "\n",
    "submission.to_csv('submission.csv', index=False)\n",
    "submission.head()"
   ]
  },
  {
   "cell_type": "code",
   "execution_count": null,
   "id": "4e1eac5a-d8c3-4a39-a132-292d3cf74b68",
   "metadata": {},
   "outputs": [],
   "source": []
  }
 ],
 "metadata": {
  "kernelspec": {
   "display_name": "Python 3 (ipykernel)",
   "language": "python",
   "name": "python3"
  },
  "language_info": {
   "codemirror_mode": {
    "name": "ipython",
    "version": 3
   },
   "file_extension": ".py",
   "mimetype": "text/x-python",
   "name": "python",
   "nbconvert_exporter": "python",
   "pygments_lexer": "ipython3",
   "version": "3.11.10"
  }
 },
 "nbformat": 4,
 "nbformat_minor": 5
}

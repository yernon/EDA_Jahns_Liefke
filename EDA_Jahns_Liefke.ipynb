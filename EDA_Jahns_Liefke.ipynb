{
 "cells": [
  {
   "cell_type": "code",
   "execution_count": 1,
   "id": "10dbe849-966b-42a8-b215-ec2777b2a75a",
   "metadata": {},
   "outputs": [],
   "source": [
    "#Predicting Optimal Fertilizer"
   ]
  },
  {
   "cell_type": "code",
   "execution_count": 1,
   "id": "edd5083c-e3ac-4054-a3c6-78d068a1780b",
   "metadata": {},
   "outputs": [],
   "source": [
    "!pip install -U kaggle -q"
   ]
  },
  {
   "cell_type": "code",
   "execution_count": 2,
   "id": "8ab3ebd3-a85f-48dd-92f1-e7f264dcbb45",
   "metadata": {},
   "outputs": [],
   "source": [
    "import pandas as pd\n",
    "import zipfile"
   ]
  },
  {
   "cell_type": "code",
   "execution_count": null,
   "id": "0113ba81-53d6-463e-bb6a-c20002129321",
   "metadata": {},
   "outputs": [],
   "source": [
    "import os, json\n",
    "\n",
    "auth_data = json.load(open('kaggle.json'))\n",
    "os.environ['KAGGLE_USERNAME'] = auth_data['yernon']\n",
    "os.environ['KAGGLE_KEY'] = auth_data['cf5072db7189e374ecd9e973053fca52']"
   ]
  }
 ],
 "metadata": {
  "kernelspec": {
   "display_name": "Python 3 (ipykernel)",
   "language": "python",
   "name": "python3"
  },
  "language_info": {
   "codemirror_mode": {
    "name": "ipython",
    "version": 3
   },
   "file_extension": ".py",
   "mimetype": "text/x-python",
   "name": "python",
   "nbconvert_exporter": "python",
   "pygments_lexer": "ipython3",
   "version": "3.11.10"
  }
 },
 "nbformat": 4,
 "nbformat_minor": 5
}

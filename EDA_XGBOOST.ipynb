{
 "cells": [
  {
   "metadata": {},
   "cell_type": "markdown",
   "source": [
    "# Predicting Optimal Fertilizer - XGBoost Implementierung\n",
    "\n",
    "Nach der explorativen Datenanalyse mit Random Forest und Logistic Regression haben wir festgestellt, dass komplexere Modelle für bessere Ergebnisse notwendig sind. XGBoost (Extreme Gradient Boosting) ist bekannt für seine überlegene Performance bei strukturierten Daten und Kaggle-Competitions.\n",
    "\n",
    "## Warum XGBoost?\n",
    "- **Gradient Boosting**: Sequenzieller Aufbau schwacher Lerner (Decision Trees)\n",
    "- **Regularisierung**: Integrierte L1/L2-Regularisierung verhindert Overfitting\n",
    "- **Kategorische Features**: Native Unterstützung für kategorische Variablen\n",
    "- **Performance**: Optimiert für Geschwindigkeit und Genauigkeit\n",
    "\n",
    "## Imports und Konfiguration"
   ],
   "id": "de899b552b1062be"
  },
  {
   "cell_type": "code",
   "id": "initial_id",
   "metadata": {
    "collapsed": true
   },
   "source": [
    "import numpy as np\n",
    "import pandas as pd\n",
    "from sklearn.preprocessing import LabelEncoder\n",
    "from xgboost import XGBClassifier\n",
    "from sklearn.model_selection import StratifiedKFold\n",
    "import matplotlib.pyplot as plt\n",
    "\n",
    "\n",
    "import warnings\n",
    "warnings.filterwarnings(\"ignore\", category=FutureWarning)\n",
    "warnings.filterwarnings(\"ignore\", category=UserWarning)"
   ],
   "outputs": [],
   "execution_count": null
  },
  {
   "metadata": {},
   "cell_type": "markdown",
   "source": [
    "Wir laden die benötigten Bibliotheken für XGBoost-Training, Evaluation und Visualisierung. Die Warnings werden unterdrückt, um eine saubere Ausgabe zu gewährleisten.\n",
    "\n",
    "**Wichtige Bibliotheken:**\n",
    "- `XGBClassifier`: Hauptmodell für Klassifizierung\n",
    "- `StratifiedKFold`: Für ausbalancierte Cross-Validation\n",
    "- `LabelEncoder`: Konvertierung der Zielvariable in numerische Form"
   ],
   "id": "37db1fb4f2ad2630"
  },
  {
   "metadata": {},
   "cell_type": "markdown",
   "source": [
    "## Datenvorbereitung\n",
    "\n",
    "### Laden der Dateien\n",
    "Wir laden drei Datensätze:\n",
    "- **train.csv**: Kaggle-Trainingsdaten (700k Samples)\n",
    "- **test.csv**: Kaggle-Testdaten für finale Vorhersagen\n",
    "- **original.csv**: Original-Datensatz aus der Quelle"
   ],
   "id": "8a3d3506b170b020"
  },
  {
   "cell_type": "code",
   "source": [
    "train = pd.read_csv(\"data/train.csv\")\n",
    "test = pd.read_csv(\"data/test.csv\")\n",
    "original = pd.read_csv(\"data/Fertilizer Prediction.csv\")"
   ],
   "metadata": {
    "collapsed": false
   },
   "id": "3be320fe690eff76",
   "outputs": [],
   "execution_count": null
  },
  {
   "metadata": {},
   "cell_type": "markdown",
   "source": [
    "### Feature-Target Separation\n",
    "- **Features (X)**: Alle Spalten außer 'id' und 'Fertilizer Name'\n",
    "  - Temperatur, Humidity, Moisture (numerisch)\n",
    "  - Soil Type, Crop Type (kategorisch)\n",
    "  - Nitrogen, Potassium, Phosphorous (numerisch)\n",
    "- **Target (y)**: 'Fertilizer Name' - 7 verschiedene Düngertypen"
   ],
   "id": "ade6ea7354c7eba8"
  },
  {
   "cell_type": "code",
   "source": [
    "# Drop the 'id' column\n",
    "X = train.drop(columns=['id', 'Fertilizer Name'])\n",
    "\n",
    "# Extract the target column\n",
    "y = train['Fertilizer Name']\n",
    "\n",
    "X.head()"
   ],
   "metadata": {
    "collapsed": false
   },
   "id": "5c7565582fae66d1",
   "outputs": [],
   "execution_count": null
  },
  {
   "metadata": {},
   "cell_type": "markdown",
   "source": "### Label Encoding",
   "id": "7f7822e055f06b7f"
  },
  {
   "cell_type": "code",
   "source": [
    "# Encode labels\n",
    "le = LabelEncoder()\n",
    "y_encoded = le.fit_transform(y)\n",
    "\n",
    "# Output labels are now numbers\n",
    "y_encoded[:10]"
   ],
   "metadata": {
    "collapsed": false
   },
   "id": "569c35cde5e3cc54",
   "outputs": [],
   "execution_count": null
  },
  {
   "metadata": {},
   "cell_type": "markdown",
   "source": [
    "Die Zielvariable wird von String-Labels in numerische Werte umgewandelt:\n",
    "- 14-35-14 → 0\n",
    "- 10-26-26 → 1\n",
    "- 17-17-17 → 2\n",
    "- etc."
   ],
   "id": "4e10e108a1bc8be5"
  },
  {
   "metadata": {},
   "cell_type": "markdown",
   "source": [
    "## Datenaugmentation Strategy\n",
    "### Problem: Unbalancierte Klassen\n",
    "Die Kaggle-Daten zeigen leichte Unbalancierung zwischen den Düngerklassen.\n",
    "### Lösung: Original-Daten Integration\n",
    "Wir vervielfachen den Original-Datensatz (n=6) und erreichen 700k zusätzliche Samples:\n",
    "```python\n",
    "for i in range(n):\n",
    "    original = pd.concat([original, orig_copy], axis=0, ignore_index=True)"
   ],
   "id": "1bad026fbbbd516a"
  },
  {
   "cell_type": "code",
   "source": [
    "orig_copy = original.copy()\n",
    "\n",
    "n = 6\n",
    "for i in range(n):\n",
    "    original = pd.concat([original, orig_copy], axis=0, ignore_index=True)\n",
    "    \n",
    "original.info()"
   ],
   "metadata": {
    "collapsed": false
   },
   "id": "519fd500a1f1c975",
   "outputs": [],
   "execution_count": null
  },
  {
   "metadata": {},
   "cell_type": "markdown",
   "source": [
    "## Klassenverteilung Analyse\n",
    "\n",
    "### Kaggle Trainingsdaten (750k Samples)\n",
    "Analyse der Verteilung der 7 Düngerklassen im Kaggle-Datensatz:"
   ],
   "id": "708c02e555734295"
  },
  {
   "cell_type": "code",
   "source": [
    "train['Fertilizer Name'].value_counts()"
   ],
   "metadata": {
    "collapsed": false
   },
   "id": "606abfaf8e30c819",
   "outputs": [],
   "execution_count": null
  },
  {
   "metadata": {},
   "cell_type": "markdown",
   "source": [
    "**Beobachtungen:**\n",
    "- **Leichte Unbalancierung**: 14-35-14 (114k) vs Urea (92k) \n",
    "- **Verhältnis**: ~24% Unterschied zwischen häufigster und seltenster Klasse\n",
    "- **Problem**: Kann zu Bias zugunsten häufigerer Klassen führen\n",
    "- **Lösung**: Datenaugmentation mit Original-Daten notwendig\n",
    "\n",
    "### Original-Datensatz (100k Samples)\n",
    "Vergleich mit der Klassenverteilung im ursprünglichen Datensatz:"
   ],
   "id": "e7badef18ac23877"
  },
  {
   "cell_type": "code",
   "source": [
    "orig_copy['Fertilizer Name'].value_counts()"
   ],
   "metadata": {
    "collapsed": false
   },
   "id": "217196d91ed4576",
   "outputs": [],
   "execution_count": null
  },
  {
   "metadata": {},
   "cell_type": "markdown",
   "source": [
    "**Vergleich Original vs Kaggle:**\n",
    "- **Ausbalancierter**: Original-Daten zeigen gleichmäßigere Verteilung\n",
    "- **Unterschiede**: 14-35-14 (14.5k) vs Urea (14.3k) - nur ~1% Differenz\n",
    "- **Vorteil für Augmentation**: Original-Daten können Klassenunbalance ausgleichen\n",
    "## Cross-Validation Setup und Initialisierung\n",
    "\n",
    "Wir verwenden **Stratified K-Fold Cross-Validation** um eine robuste Modell-Evaluation zu gewährleisten:\n",
    "- **5 Folds**: Standard für zuverlässige Performance-Schätzung\n",
    "- **Stratified**: Erhält Klassenverteilung in jedem Fold\n",
    "- **Shuffle=True**: Vermeidet systematische Bias durch Datenreihenfolge\n",
    "\n",
    "Die Listen speichern Ergebnisse für spätere Ensemble-Bildung und finale Evaluation."
   ],
   "id": "3b65965171ff29b9"
  },
  {
   "metadata": {},
   "cell_type": "code",
   "source": [
    "\n",
    "map3_scores = []\n",
    "models = []\n",
    "\n",
    "all_y_true = []\n",
    "all_y_pred = []\n",
    "\n",
    "skf = StratifiedKFold(n_splits=5, shuffle=True, random_state=42)"
   ],
   "id": "9f9f41346c4f55ce",
   "outputs": [],
   "execution_count": null
  },
  {
   "metadata": {},
   "cell_type": "markdown",
   "source": [
    "## MAP@3 Metrik Implementation\n",
    "\n",
    "**Mean Average Precision at 3** ist die Haupt-Evaluationsmetrik für diese Kaggle-Competition:\n",
    "\n",
    "### Funktionsweise:\n",
    "- Für jede Vorhersage werden die **Top-3 wahrscheinlichsten Klassen** betrachtet\n",
    "- **Positionsgewichtung**: Höhere Position = höhere Gewichtung\n",
    "- **Berechnung**: `1 / (Position der korrekten Klasse)` falls in Top-3, sonst 0\n"
   ],
   "id": "98b1f3530590dd62"
  },
  {
   "metadata": {},
   "cell_type": "code",
   "source": [
    "def mapk(actual, predicted, k=3):\n",
    "        def apk(a, p, k):\n",
    "            if a in p[:k]:\n",
    "                return 1.0 / (p[:k].index(a) + 1)\n",
    "            return 0.0\n",
    "        return np.mean([apk(a, p, k) for a, p in zip(actual, predicted)])"
   ],
   "id": "7ada6aed940db638",
   "outputs": [],
   "execution_count": null
  },
  {
   "metadata": {},
   "cell_type": "markdown",
   "source": [
    "## Cross-Validation Training Loop\n",
    "\n",
    "Für jeden der 5 Folds führen wir folgende Schritte durch:\n",
    "1. **Train/Validation Split** der Kaggle-Daten\n",
    "2. **Datenaugmentation** durch Original-Daten\n",
    "3. **Feature-Preprocessing** für XGBoost\n",
    "4. **Model Training** mit Monitoring\n",
    "5. **Evaluation** mit MAP@3 Metrik"
   ],
   "id": "5e9b4bc83743b88e"
  },
  {
   "metadata": {},
   "cell_type": "code",
   "source": [
    "for fold, (train_idx, val_idx) in enumerate(skf.split(X, y_encoded)):\n",
    "    print(f\"\\nFold {fold + 1} \")"
   ],
   "id": "958b2ae1b939776a",
   "outputs": [],
   "execution_count": null
  },
  {
   "metadata": {},
   "cell_type": "markdown",
   "source": [
    "## Daten-Splitting und Augmentation pro Fold\n",
    "\n",
    "### Train/Validation Split\n",
    "- **Training**: 80% der Kaggle-Daten + komplette Original-Daten\n",
    "- **Validation**: 20% der Kaggle-Daten (keine Augmentation!)\n",
    "\n",
    "### Warum diese Strategie?\n",
    "- **Mehr Trainingsdaten**: Original-Daten verbessern Modell-Robustheit\n",
    "- **Saubere Evaluation**: Validation nur auf Kaggle-Daten testet echte Performance\n",
    "- **Klassenbalance**: Original-Daten gleichen Unbalancierung aus"
   ],
   "id": "5a79c0463eec73ed"
  },
  {
   "metadata": {},
   "cell_type": "code",
   "source": [
    "    X_train = X.iloc[train_idx].copy()\n",
    "    X_val = X.iloc[val_idx].copy()\n",
    "    y_train = y_encoded[train_idx]\n",
    "    y_val = y_encoded[val_idx]\n",
    "\n",
    "    X_train = pd.concat([X_train, original], ignore_index=True)\n",
    "    y_train = np.concatenate([y_train, le.transform(original['Fertilizer Name'])])\n",
    "\n",
    "    X_train.drop(columns=['Fertilizer Name'], inplace=True)"
   ],
   "id": "ee30cceb9229730f",
   "outputs": [],
   "execution_count": null
  },
  {
   "metadata": {},
   "cell_type": "markdown",
   "source": [
    "## Feature Preprocessing für XGBoost\n",
    "\n",
    "### Kategorische Feature-Behandlung\n",
    "XGBoost kann **nativ mit kategorischen Features** umgehen, wenn sie korrekt als 'category' dtype markiert sind:\n",
    "\n",
    "### Vorteile:\n",
    "- **Keine One-Hot-Encoding** notwendig\n",
    "- **Effizientere Speichernutzung**\n",
    "- **Bessere Performance** bei hochkardinalischen Kategorien\n",
    "- **Automatische Behandlung** unbekannter Kategorien"
   ],
   "id": "f175b3b0f78f6e6e"
  },
  {
   "metadata": {},
   "cell_type": "code",
   "source": [
    "    for col in X_train.columns:\n",
    "        X_train[col] = X_train[col].astype('category')\n",
    "        \n",
    "    for col in X_val.columns:\n",
    "        X_val[col] = X_val[col].astype('category')\n",
    "    \n",
    "    cat_features = X_train.columns.tolist()  "
   ],
   "id": "c17752d69cb81936",
   "outputs": [],
   "execution_count": null
  },
  {
   "metadata": {},
   "cell_type": "markdown",
   "source": [
    "## XGBoost Model Definition und Training\n",
    "\n",
    "### Hyperparameter-Erklärung:\n",
    "- **max_depth=7**: Baumtiefe begrenzt Komplexität\n",
    "- **learning_rate=0.01**: Kleine Schrittweite für stabile Konvergenz\n",
    "- **n_estimators=10000**: Viele Bäume mit Early Stopping\n",
    "- **Regularisierung**: alpha=2.7, lambda=1.4 verhindern Overfitting\n",
    "- **Sampling**: subsample=0.8, colsample=0.4 für Robustheit\n",
    "\n",
    "### Training-Monitoring:\n",
    "- **eval_set**: Überwacht Training- und Validation-Loss\n",
    "- **verbose=500**: Ausgabe alle 500 Iterationen"
   ],
   "id": "3d9417947a1c8d13"
  },
  {
   "metadata": {},
   "cell_type": "code",
   "source": [
    "    model = XGBClassifier(\n",
    "                max_depth=7,\n",
    "                colsample_bytree=0.4,\n",
    "                subsample=0.8,\n",
    "                n_estimators=10000,\n",
    "                learning_rate=0.01,\n",
    "                gamma=0.26,\n",
    "                max_delta_step=4,\n",
    "                reg_alpha=2.7,\n",
    "                reg_lambda=1.4,\n",
    "                objective='multi:softprob',\n",
    "                random_state=13,\n",
    "                enable_categorical=True,\n",
    "                tree_method='hist',     \n",
    "                device='cuda'  \n",
    "            )\n",
    "\n",
    "    model.fit(\n",
    "        X_train,\n",
    "        y_train,\n",
    "        eval_set=[(X_train, y_train),(X_val, y_val)],\n",
    "        verbose=500,\n",
    "    )"
   ],
   "id": "344f88c2cc79e631",
   "outputs": [],
   "execution_count": null
  },
  {
   "metadata": {},
   "cell_type": "markdown",
   "source": [
    "## Vorhersagen und Performance-Evaluation\n",
    "\n",
    "### Vorhersage-Typen:\n",
    "- **y_pred**: Beste Klassen-Vorhersage (für F1-Score)\n",
    "- **y_probs**: Wahrscheinlichkeiten für alle Klassen (für MAP@3)\n",
    "\n",
    "### Top-3 Ranking:\n",
    "- **np.argsort**: Sortiert Indizes nach Wahrscheinlichkeit\n",
    "- **[:, -3:]**: Nimmt die 3 höchsten Werte\n",
    "- **[:, ::-1]**: Kehrt Reihenfolge um (höchste zuerst)"
   ],
   "id": "720350e8999fc833"
  },
  {
   "metadata": {},
   "cell_type": "code",
   "source": [
    "    y_pred = model.predict(X_val)\n",
    "    y_probs = model.predict_proba(X_val)\n",
    "\n",
    "    all_y_true.extend(y_val)\n",
    "    all_y_pred.extend(y_pred)\n",
    "\n",
    "\n",
    "    top3_preds = np.argsort(y_probs, axis=1)[:, -3:][:, ::-1]\n",
    "    \n",
    "    \n",
    "\n",
    "    map3 = mapk(y_val.tolist(), top3_preds.tolist(), k=3)\n",
    "    map3_scores.append(map3)\n",
    "    models.append(model)\n",
    "\n",
    "    print(f\"F1 (macro): | MAP@3: {map3:.4f}\")"
   ],
   "id": "a5ee71351daf7411",
   "outputs": [],
   "execution_count": null
  },
  {
   "metadata": {},
   "cell_type": "markdown",
   "source": [
    "## Cross-Validation Ergebnisse\n",
    "\n",
    "### Performance-Zusammenfassung:\n",
    "Die finale **durchschnittliche MAP@3** über alle 5 Folds gibt uns eine robuste Schätzung der Modell-Performance auf ungesehenen Daten.\n",
    "\n",
    "### Interpretation:\n",
    "- **MAP@3 ≈ 0.377**: Solide Performance für 7-Klassen-Problem\n",
    "- **Konsistenz**: Geringe Varianz zwischen Folds zeigt Stabilität\n",
    "- **Overfitting-Check**: Validation-Performance ist realistisch"
   ],
   "id": "471e4ab29d294d73"
  },
  {
   "cell_type": "code",
   "source": [
    "print(\"\\n Final CV Results \")\n",
    "print(f\"Avg MAP@3: {np.mean(map3_scores):.4f}\")"
   ],
   "metadata": {
    "collapsed": false
   },
   "id": "68706b94264eeb92",
   "outputs": [],
   "execution_count": null
  },
  {
   "cell_type": "code",
   "source": [
    "\n",
    "results = model.evals_result()\n",
    "plt.plot(results['validation_0']['mlogloss'], label='Train')\n",
    "plt.plot(results['validation_1']['mlogloss'], label='Val')\n",
    "plt.legend()\n",
    "plt.show()"
   ],
   "metadata": {
    "collapsed": false
   },
   "id": "9ac34a3628fdc328",
   "outputs": [],
   "execution_count": null
  },
  {
   "cell_type": "code",
   "source": [
    "for col in cat_features:\n",
    "    test[col] = test[col].astype('category')\n",
    "\n",
    "all_preds = np.zeros((test.shape[0], len(le.classes_)))\n",
    "\n",
    "X_test = test.drop(columns='id')\n",
    "cat_features = X_test.columns.tolist()   \n",
    "\n",
    "for model in models:\n",
    "    probs = model.predict_proba(X_test)\n",
    "    all_preds += probs\n",
    "\n",
    "avg_preds = all_preds / len(models)\n",
    "\n",
    "top3_preds = np.argsort(probs, axis=1)[:, -3:][:, ::-1] \n",
    "\n",
    "top3_labels = le.inverse_transform(top3_preds.ravel()).reshape(top3_preds.shape)\n",
    "\n",
    "submission = pd.DataFrame({\n",
    "    'id': test['id'], \n",
    "    'Fertilizer Name': [' '.join(row) for row in top3_labels]\n",
    "})\n",
    "\n",
    "submission.to_csv('submission.csv', index=False)\n",
    "submission.head()"
   ],
   "metadata": {
    "collapsed": false
   },
   "id": "897ebc00b8b3c0e3",
   "outputs": [],
   "execution_count": null
  }
 ],
 "metadata": {
  "kernelspec": {
   "display_name": "Python 3",
   "language": "python",
   "name": "python3"
  },
  "language_info": {
   "codemirror_mode": {
    "name": "ipython",
    "version": 2
   },
   "file_extension": ".py",
   "mimetype": "text/x-python",
   "name": "python",
   "nbconvert_exporter": "python",
   "pygments_lexer": "ipython2",
   "version": "2.7.6"
  }
 },
 "nbformat": 4,
 "nbformat_minor": 5
}
